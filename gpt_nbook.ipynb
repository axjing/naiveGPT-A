{
  "cells": [
    {
      "cell_type": "markdown",
      "metadata": {
        "id": "view-in-github",
        "colab_type": "text"
      },
      "source": [
        "<a href=\"https://colab.research.google.com/github/axjing/naiveGPT-A/blob/main/gpt_nbook.ipynb\" target=\"_parent\"><img src=\"https://colab.research.google.com/assets/colab-badge.svg\" alt=\"Open In Colab\"/></a>"
      ]
    },
    {
      "cell_type": "markdown",
      "metadata": {
        "id": "wJpXpmjEYC_T"
      },
      "source": [
        "## Building a GPT\n",
        "\n",
        "Companion notebook to the [Zero To Hero](https://karpathy.ai/zero-to-hero.html) video on GPT."
      ]
    },
    {
      "cell_type": "code",
      "execution_count": null,
      "metadata": {
        "colab": {
          "base_uri": "https://localhost:8080/"
        },
        "id": "h5hjCcLDr2WC",
        "outputId": "54a55569-c6e7-4cd6-a8ec-9e5476ce872e"
      },
      "outputs": [
        {
          "output_type": "stream",
          "name": "stdout",
          "text": [
            "--2025-03-08 14:42:26--  https://raw.githubusercontent.com/karpathy/char-rnn/master/data/tinyshakespeare/input.txt\n",
            "Resolving raw.githubusercontent.com (raw.githubusercontent.com)... 185.199.110.133, 185.199.111.133, 185.199.109.133, ...\n",
            "Connecting to raw.githubusercontent.com (raw.githubusercontent.com)|185.199.110.133|:443... connected.\n",
            "HTTP request sent, awaiting response... 200 OK\n",
            "Length: 1115394 (1.1M) [text/plain]\n",
            "Saving to: ‘input.txt.2’\n",
            "\n",
            "\rinput.txt.2           0%[                    ]       0  --.-KB/s               \rinput.txt.2         100%[===================>]   1.06M  --.-KB/s    in 0.008s  \n",
            "\n",
            "2025-03-08 14:42:26 (132 MB/s) - ‘input.txt.2’ saved [1115394/1115394]\n",
            "\n"
          ]
        }
      ],
      "source": [
        "# https://colab.research.google.com/drive/1EIDeyZPupgI3HQJ2MMz5uBf7A5OoNdUN#scrollTo=0MAokA76STZT\n",
        "# We always start with a dataset to train on. Let's download the tiny shakespeare dataset\n",
        "!wget https://raw.githubusercontent.com/karpathy/char-rnn/master/data/tinyshakespeare/input.txt"
      ]
    },
    {
      "cell_type": "code",
      "execution_count": null,
      "metadata": {
        "id": "O6medjfRsLD9"
      },
      "outputs": [],
      "source": [
        "# read it in to inspect it\n",
        "with open('input.txt', 'r', encoding='utf-8') as f:\n",
        "    text = f.read()"
      ]
    },
    {
      "cell_type": "code",
      "execution_count": null,
      "metadata": {
        "colab": {
          "base_uri": "https://localhost:8080/"
        },
        "id": "6xWI_VyAsN8F",
        "outputId": "7428b508-d90c-4fb9-fa74-aa6c47de04ac"
      },
      "outputs": [
        {
          "output_type": "stream",
          "name": "stdout",
          "text": [
            "length of dataset in characters:  1115394\n"
          ]
        }
      ],
      "source": [
        "print(\"length of dataset in characters: \", len(text))"
      ]
    },
    {
      "cell_type": "code",
      "execution_count": null,
      "metadata": {
        "colab": {
          "base_uri": "https://localhost:8080/"
        },
        "id": "2c5V0FvqseE0",
        "outputId": "53ab3e6e-a8d7-4541-d6b9-fc53df8b3fb1"
      },
      "outputs": [
        {
          "output_type": "stream",
          "name": "stdout",
          "text": [
            "First Citizen:\n",
            "Before we proceed any further, hear me speak.\n",
            "\n",
            "All:\n",
            "Speak, speak.\n",
            "\n",
            "First Citizen:\n",
            "You are all resolved rather to die than to famish?\n",
            "\n",
            "All:\n",
            "Resolved. resolved.\n",
            "\n",
            "First Citizen:\n",
            "First, you know Caius Marcius is chief enemy to the people.\n",
            "\n",
            "All:\n",
            "We know't, we know't.\n",
            "\n",
            "First Citizen:\n",
            "Let us kill him, and we'll have corn at our own price.\n",
            "Is't a verdict?\n",
            "\n",
            "All:\n",
            "No more talking on't; let it be done: away, away!\n",
            "\n",
            "Second Citizen:\n",
            "One word, good citizens.\n",
            "\n",
            "First Citizen:\n",
            "We are accounted poor citizens, the patricians good.\n",
            "What authority surfeits on would relieve us: if they\n",
            "would yield us but the superfluity, while it were\n",
            "wholesome, we might guess they relieved us humanely;\n",
            "but they think we are too dear: the leanness that\n",
            "afflicts us, the object of our misery, is as an\n",
            "inventory to particularise their abundance; our\n",
            "sufferance is a gain to them Let us revenge this with\n",
            "our pikes, ere we become rakes: for the gods know I\n",
            "speak this in hunger for bread, not in thirst for revenge.\n",
            "\n",
            "\n"
          ]
        }
      ],
      "source": [
        "# let's look at the first 1000 characters\n",
        "print(text[:1000])"
      ]
    },
    {
      "cell_type": "code",
      "execution_count": null,
      "metadata": {
        "colab": {
          "base_uri": "https://localhost:8080/"
        },
        "id": "WkJZSlUKy-M9",
        "outputId": "e6bf5eef-bd53-4027-81d6-6f127b1e00f7"
      },
      "outputs": [
        {
          "output_type": "execute_result",
          "data": {
            "text/plain": [
              "65"
            ]
          },
          "metadata": {},
          "execution_count": 13
        }
      ],
      "source": [
        "len(set(text))"
      ]
    },
    {
      "cell_type": "code",
      "execution_count": null,
      "metadata": {
        "colab": {
          "base_uri": "https://localhost:8080/"
        },
        "id": "0e-Rbyr8sfM8",
        "outputId": "38ac2261-9ae0-4314-ec53-1b0614599145"
      },
      "outputs": [
        {
          "output_type": "stream",
          "name": "stdout",
          "text": [
            "\n",
            " !$&',-.3:;?ABCDEFGHIJKLMNOPQRSTUVWXYZabcdefghijklmnopqrstuvwxyz\n",
            "65\n"
          ]
        }
      ],
      "source": [
        "# here are all the unique characters that occur in this text\n",
        "chars = sorted(list(set(text)))\n",
        "vocab_size = len(chars)\n",
        "print(''.join(chars))\n",
        "print(vocab_size)"
      ]
    },
    {
      "cell_type": "code",
      "execution_count": null,
      "metadata": {
        "colab": {
          "base_uri": "https://localhost:8080/"
        },
        "id": "Yw1LKNCgwjj1",
        "outputId": "3e1b88c0-f5b7-4bf7-b2f5-c50afd2bd071"
      },
      "outputs": [
        {
          "output_type": "stream",
          "name": "stdout",
          "text": [
            "9\n",
            "[46, 47, 47, 1, 58, 46, 43, 56, 43] 9\n",
            "hii there\n"
          ]
        }
      ],
      "source": [
        "# create a mapping from characters to integers\n",
        "stoi = { ch:i for i,ch in enumerate(chars) }\n",
        "itos = { i:ch for i,ch in enumerate(chars) }\n",
        "encode = lambda s: [stoi[c] for c in s] # encoder: take a string, output a list of integers\n",
        "decode = lambda l: ''.join([itos[i] for i in l]) # decoder: take a list of integers, output a string\n",
        "\n",
        "s=\"hii there\"\n",
        "print(len(s))\n",
        "print(encode(s),len(encode(s)))\n",
        "print(decode(encode(\"hii there\")))"
      ]
    },
    {
      "cell_type": "code",
      "execution_count": null,
      "metadata": {
        "colab": {
          "base_uri": "https://localhost:8080/"
        },
        "id": "YJb0OXPwzvqg",
        "outputId": "1a7435b1-49a0-4b55-c014-fcbd2674b91e"
      },
      "outputs": [
        {
          "output_type": "stream",
          "name": "stdout",
          "text": [
            "torch.Size([1115394]) torch.int64\n",
            "tensor([18, 47, 56, 57, 58,  1, 15, 47, 58, 47])\n",
            "torch.Size([1115394, 64])\n",
            "tensor(18)\n",
            "tensor([ 4.0864e-01, -1.2987e+00,  1.0930e+00, -5.1575e-01, -4.8376e-01,\n",
            "         2.8944e-01, -1.0690e-01,  2.0984e+00,  9.7552e-01, -8.4193e-01,\n",
            "        -2.4529e-02,  8.8187e-01, -7.0549e-02,  1.6674e+00, -1.4112e+00,\n",
            "         2.8545e+00, -6.1392e-01, -7.8699e-01,  5.6418e-02,  1.7637e-03,\n",
            "        -3.1698e-01, -1.1864e+00, -4.6118e-01,  1.5097e+00, -2.7998e-01,\n",
            "         3.3093e-01,  5.3553e-01,  4.8357e-01, -1.5252e+00,  3.4221e-01,\n",
            "        -1.0428e+00, -1.2098e-01, -2.3640e-02, -6.4670e-01,  3.3914e-01,\n",
            "         7.5612e-01, -8.6621e-01,  2.9998e-01,  2.5767e-01,  1.3628e+00,\n",
            "        -9.2968e-01, -5.4983e-01, -9.3632e-01,  1.2795e-01,  1.2174e+00,\n",
            "        -1.6732e+00, -1.6424e+00, -1.2453e-01,  6.4405e-01,  5.4531e-01,\n",
            "        -1.8488e-01,  1.2253e-01, -9.8841e-01,  7.7062e-01, -3.6584e-02,\n",
            "         3.5684e-01, -3.8302e-01, -9.5906e-01, -1.1341e-01, -1.1397e+00,\n",
            "        -4.2396e-01,  6.9055e-01, -1.4531e-01,  1.3519e-01],\n",
            "       grad_fn=<SelectBackward0>) torch.Size([64])\n"
          ]
        }
      ],
      "source": [
        "# let's now encode the entire text dataset and store it into a torch.Tensor\n",
        "import torch # we use PyTorch: https://pytorch.org\n",
        "data = torch.tensor(encode(text), dtype=torch.long)\n",
        "print(data.shape, data.dtype)\n",
        "print(data[:10]) # the 1000 characters we looked at earier will to the GPT look like this\n",
        "\n",
        "\n",
        "import torch.nn as nn\n",
        "emb1=nn.Embedding(vocab_size,64) # vocab_size nembed\n",
        "emb1.weight.shape\n",
        "em_data=emb1(data)\n",
        "print(em_data.shape)\n",
        "print(data[0])\n",
        "print(em_data[0],em_data[0].shape)"
      ]
    },
    {
      "cell_type": "code",
      "execution_count": null,
      "metadata": {
        "id": "f_WIXqxz0lU5"
      },
      "outputs": [],
      "source": [
        "# Let's now split up the data into train and validation sets\n",
        "n = int(0.9*len(data)) # first 90% will be train, rest val\n",
        "train_data = data[:n]\n",
        "val_data = data[n:]"
      ]
    },
    {
      "cell_type": "code",
      "execution_count": null,
      "metadata": {
        "colab": {
          "base_uri": "https://localhost:8080/"
        },
        "id": "TD5Bj8Y6IAD4",
        "outputId": "8607bc48-17ba-4c37-d2f2-e1655774cf0d"
      },
      "outputs": [
        {
          "output_type": "execute_result",
          "data": {
            "text/plain": [
              "tensor([18, 47, 56, 57, 58,  1, 15, 47, 58])"
            ]
          },
          "metadata": {},
          "execution_count": 10
        }
      ],
      "source": [
        "block_size = 8\n",
        "train_data[:block_size+1]"
      ]
    },
    {
      "cell_type": "code",
      "execution_count": null,
      "metadata": {
        "colab": {
          "base_uri": "https://localhost:8080/"
        },
        "id": "9HXDe8vGJCEn",
        "outputId": "9b6762c2-0c0a-4d1c-fd60-836245fcb54d"
      },
      "outputs": [
        {
          "output_type": "stream",
          "name": "stdout",
          "text": [
            "when input is tensor([18]) the target: 47\n",
            "when input is tensor([18, 47]) the target: 56\n",
            "when input is tensor([18, 47, 56]) the target: 57\n",
            "when input is tensor([18, 47, 56, 57]) the target: 58\n",
            "when input is tensor([18, 47, 56, 57, 58]) the target: 1\n",
            "when input is tensor([18, 47, 56, 57, 58,  1]) the target: 15\n",
            "when input is tensor([18, 47, 56, 57, 58,  1, 15]) the target: 47\n",
            "when input is tensor([18, 47, 56, 57, 58,  1, 15, 47]) the target: 58\n"
          ]
        }
      ],
      "source": [
        "x = train_data[:block_size]\n",
        "y = train_data[1:block_size+1]\n",
        "for t in range(block_size):\n",
        "    context = x[:t+1]\n",
        "    target = y[t]\n",
        "    print(f\"when input is {context} the target: {target}\")"
      ]
    },
    {
      "cell_type": "code",
      "execution_count": null,
      "metadata": {
        "colab": {
          "base_uri": "https://localhost:8080/"
        },
        "id": "Q3k1Czf7LuA9",
        "outputId": "1db14eb8-a12d-4e53-b13c-0abbad38edf8"
      },
      "outputs": [
        {
          "output_type": "stream",
          "name": "stdout",
          "text": [
            "inputs:\n",
            "torch.Size([4, 8])\n",
            "tensor([[24, 43, 58,  5, 57,  1, 46, 43],\n",
            "        [44, 53, 56,  1, 58, 46, 39, 58],\n",
            "        [52, 58,  1, 58, 46, 39, 58,  1],\n",
            "        [25, 17, 27, 10,  0, 21,  1, 54]])\n",
            "targets:\n",
            "torch.Size([4, 8])\n",
            "tensor([[43, 58,  5, 57,  1, 46, 43, 39],\n",
            "        [53, 56,  1, 58, 46, 39, 58,  1],\n",
            "        [58,  1, 58, 46, 39, 58,  1, 46],\n",
            "        [17, 27, 10,  0, 21,  1, 54, 39]])\n",
            "----\n",
            "when input is [24] the target: 43\n",
            "when input is [24, 43] the target: 58\n",
            "when input is [24, 43, 58] the target: 5\n",
            "when input is [24, 43, 58, 5] the target: 57\n",
            "when input is [24, 43, 58, 5, 57] the target: 1\n",
            "when input is [24, 43, 58, 5, 57, 1] the target: 46\n",
            "when input is [24, 43, 58, 5, 57, 1, 46] the target: 43\n",
            "when input is [24, 43, 58, 5, 57, 1, 46, 43] the target: 39\n",
            "when input is [44] the target: 53\n",
            "when input is [44, 53] the target: 56\n",
            "when input is [44, 53, 56] the target: 1\n",
            "when input is [44, 53, 56, 1] the target: 58\n",
            "when input is [44, 53, 56, 1, 58] the target: 46\n",
            "when input is [44, 53, 56, 1, 58, 46] the target: 39\n",
            "when input is [44, 53, 56, 1, 58, 46, 39] the target: 58\n",
            "when input is [44, 53, 56, 1, 58, 46, 39, 58] the target: 1\n",
            "when input is [52] the target: 58\n",
            "when input is [52, 58] the target: 1\n",
            "when input is [52, 58, 1] the target: 58\n",
            "when input is [52, 58, 1, 58] the target: 46\n",
            "when input is [52, 58, 1, 58, 46] the target: 39\n",
            "when input is [52, 58, 1, 58, 46, 39] the target: 58\n",
            "when input is [52, 58, 1, 58, 46, 39, 58] the target: 1\n",
            "when input is [52, 58, 1, 58, 46, 39, 58, 1] the target: 46\n",
            "when input is [25] the target: 17\n",
            "when input is [25, 17] the target: 27\n",
            "when input is [25, 17, 27] the target: 10\n",
            "when input is [25, 17, 27, 10] the target: 0\n",
            "when input is [25, 17, 27, 10, 0] the target: 21\n",
            "when input is [25, 17, 27, 10, 0, 21] the target: 1\n",
            "when input is [25, 17, 27, 10, 0, 21, 1] the target: 54\n",
            "when input is [25, 17, 27, 10, 0, 21, 1, 54] the target: 39\n"
          ]
        }
      ],
      "source": [
        "torch.manual_seed(1337)\n",
        "batch_size = 4 # how many independent sequences will we process in parallel?\n",
        "block_size = 8 # what is the maximum context length for predictions?\n",
        "\n",
        "def get_batch(split):\n",
        "    # generate a small batch of data of inputs x and targets y\n",
        "    data = train_data if split == 'train' else val_data\n",
        "    # print(len(data)-block_size)\n",
        "    ix = torch.randint(len(data) - block_size, (batch_size,))\n",
        "    # print(ix.size())\n",
        "    x = torch.stack([data[i:i+block_size] for i in ix])\n",
        "    # print(x.shape)\n",
        "    y = torch.stack([data[i+1:i+block_size+1] for i in ix])\n",
        "    return x, y\n",
        "\n",
        "xb, yb = get_batch('train')\n",
        "print('inputs:')\n",
        "print(xb.shape)\n",
        "print(xb)\n",
        "print('targets:')\n",
        "print(yb.shape)\n",
        "print(yb)\n",
        "\n",
        "print('----')\n",
        "\n",
        "for b in range(batch_size): # batch dimension\n",
        "    for t in range(block_size): # time dimension\n",
        "        context = xb[b, :t+1]\n",
        "        target = yb[b,t]\n",
        "        print(f\"when input is {context.tolist()} the target: {target}\")"
      ]
    },
    {
      "cell_type": "code",
      "execution_count": null,
      "metadata": {
        "colab": {
          "base_uri": "https://localhost:8080/"
        },
        "id": "qpyyAeIzQjlO",
        "outputId": "7d56adff-fb21-4698-b684-6794b4149a23"
      },
      "outputs": [
        {
          "output_type": "stream",
          "name": "stdout",
          "text": [
            "tensor([[24, 43, 58,  5, 57,  1, 46, 43],\n",
            "        [44, 53, 56,  1, 58, 46, 39, 58],\n",
            "        [52, 58,  1, 58, 46, 39, 58,  1],\n",
            "        [25, 17, 27, 10,  0, 21,  1, 54]])\n"
          ]
        }
      ],
      "source": [
        "print(xb) # our input to the transformer"
      ]
    },
    {
      "cell_type": "code",
      "execution_count": null,
      "metadata": {
        "colab": {
          "base_uri": "https://localhost:8080/"
        },
        "id": "nql_1ER53oCf",
        "outputId": "dd57537a-d805-4d95-f4c7-712d33e99ca3"
      },
      "outputs": [
        {
          "output_type": "stream",
          "name": "stdout",
          "text": [
            "torch.Size([32, 65])\n",
            "tensor(4.8786, grad_fn=<NllLossBackward0>)\n",
            "\n",
            "Sr?qP-QWktXoL&jLDJgOLVz'RIoDqHdhsV&vLLxatjscMpwLERSPyao.qfzs$Ys$zF-w,;eEkzxjgCKFChs!iWW.ObzDnxA Ms$3\n"
          ]
        }
      ],
      "source": [
        "import torch\n",
        "import torch.nn as nn\n",
        "from torch.nn import functional as F\n",
        "torch.manual_seed(1337)\n",
        "\n",
        "class BigramLanguageModel(nn.Module):\n",
        "\n",
        "    def __init__(self, vocab_size):\n",
        "        super().__init__()\n",
        "        # each token directly reads off the logits for the next token from a lookup table\n",
        "        self.token_embedding_table = nn.Embedding(vocab_size, vocab_size)\n",
        "\n",
        "    def forward(self, idx, targets=None):\n",
        "\n",
        "        # idx and targets are both (B,T) tensor of integers\n",
        "        logits = self.token_embedding_table(idx) # (B,T,C)\n",
        "\n",
        "        if targets is None:\n",
        "            loss = None\n",
        "        else:\n",
        "            B, T, C = logits.shape\n",
        "            logits = logits.view(B*T, C)\n",
        "            targets = targets.view(B*T)\n",
        "            loss = F.cross_entropy(logits, targets)\n",
        "\n",
        "        return logits, loss\n",
        "\n",
        "    def generate(self, idx, max_new_tokens):\n",
        "        # idx is (B, T) array of indices in the current context\n",
        "        for _ in range(max_new_tokens):\n",
        "            # get the predictions\n",
        "            logits, loss = self(idx)\n",
        "            # focus only on the last time step\n",
        "            logits = logits[:, -1, :] # becomes (B, C)\n",
        "            # apply softmax to get probabilities\n",
        "            probs = F.softmax(logits, dim=-1) # (B, C)\n",
        "            # sample from the distribution\n",
        "            idx_next = torch.multinomial(probs, num_samples=1) # (B, 1)\n",
        "            # append sampled index to the running sequence\n",
        "            idx = torch.cat((idx, idx_next), dim=1) # (B, T+1)\n",
        "        return idx\n",
        "\n",
        "m = BigramLanguageModel(vocab_size)\n",
        "logits, loss = m(xb, yb)\n",
        "print(logits.shape)\n",
        "print(loss)\n",
        "\n",
        "print(decode(m.generate(idx = torch.zeros((1, 1), dtype=torch.long), max_new_tokens=100)[0].tolist()))\n"
      ]
    },
    {
      "cell_type": "code",
      "execution_count": null,
      "metadata": {
        "id": "eTyJ8qAaDdiF"
      },
      "outputs": [],
      "source": [
        "# create a PyTorch optimizer\n",
        "optimizer = torch.optim.AdamW(m.parameters(), lr=1e-3)"
      ]
    },
    {
      "cell_type": "code",
      "execution_count": null,
      "metadata": {
        "colab": {
          "base_uri": "https://localhost:8080/"
        },
        "id": "Hs4kI8YdEkQj",
        "outputId": "92efcc34-0757-41f4-a0b3-bcc086e60515"
      },
      "outputs": [
        {
          "output_type": "stream",
          "name": "stdout",
          "text": [
            "4.587916374206543\n"
          ]
        }
      ],
      "source": [
        "batch_size = 32\n",
        "for steps in range(100): # increase number of steps for good results...\n",
        "\n",
        "    # sample a batch of data\n",
        "    xb, yb = get_batch('train')\n",
        "\n",
        "    # evaluate the loss\n",
        "    logits, loss = m(xb, yb)\n",
        "    optimizer.zero_grad(set_to_none=True)\n",
        "    loss.backward()\n",
        "    optimizer.step()\n",
        "\n",
        "print(loss.item())\n"
      ]
    },
    {
      "cell_type": "code",
      "execution_count": null,
      "metadata": {
        "colab": {
          "base_uri": "https://localhost:8080/"
        },
        "id": "EcVIDWAZEtjN",
        "outputId": "82d3f1eb-1f30-4d4d-fa8f-e2d639e8467a"
      },
      "outputs": [
        {
          "output_type": "stream",
          "name": "stdout",
          "text": [
            "\n",
            "xiKi-RJ:CgqVuUa!U?qMH.uk!sCuMXvv!CJFfx;LgRyJknOEti.?I&-gPlLyulId?XlaInQ'q,lT$\n",
            "3Q&sGlvHQ?mqSq-eON\n",
            "x?SP fUAfCAuCX:bOlgiRQWN:Mphaw\n",
            "tRLKuYXEaAXxrcq-gCUzeh3w!AcyaylgYWjmJM?Uzw:inaY,:C&OECW:vmGGJAn3onAuMgia!ms$Vb q-gCOcPcUhOnxJGUGSPJWT:.?ujmJFoiNL&A'DxY,prZ?qdT;hoo'dHooXXlxf'WkHK&u3Q?rqUi.kz;?Yx?C&u3Qbfzxlyh'Vl:zyxjKXgC?\n",
            "lv'QKFiBeviNxO'm!Upm$srm&TqViqiBD3HBP!juEOpmZJyF$Fwfy!PlvWPFC\n",
            "&WDdP!Ko,px\n",
            "x\n",
            "tREOE;AJ.BeXkylOVD3KHp$e?nD,.SFbWWI'ubcL!q-tU;aXmJ&uGXHxJXI&Z!gHRpajj;l.\n",
            "pTErIBjx;JKIgoCnLGXrJSP!AU-AcbczR?\n"
          ]
        }
      ],
      "source": [
        "print(decode(m.generate(idx = torch.zeros((1, 1), dtype=torch.long), max_new_tokens=500)[0].tolist()))"
      ]
    },
    {
      "cell_type": "markdown",
      "metadata": {
        "id": "XinV8nmAnmKN"
      },
      "source": [
        "## The mathematical trick in self-attention"
      ]
    },
    {
      "cell_type": "code",
      "execution_count": null,
      "metadata": {
        "colab": {
          "base_uri": "https://localhost:8080/"
        },
        "id": "tukiH-NbRBhA",
        "outputId": "3df5f7a2-7d03-4a3b-f4f6-63a96af25950"
      },
      "outputs": [
        {
          "output_type": "stream",
          "name": "stdout",
          "text": [
            "tensor([[1., 0., 0.],\n",
            "        [1., 1., 0.],\n",
            "        [1., 1., 1.]])\n",
            "torch.Size([3, 3])\n",
            "a=\n",
            "tensor([[1.0000, 0.0000, 0.0000],\n",
            "        [0.5000, 0.5000, 0.0000],\n",
            "        [0.3333, 0.3333, 0.3333]])\n",
            "--\n",
            "b=\n",
            "tensor([[2., 7.],\n",
            "        [6., 4.],\n",
            "        [6., 5.]])\n",
            "--\n",
            "c=\n",
            "tensor([[2.0000, 7.0000],\n",
            "        [4.0000, 5.5000],\n",
            "        [4.6667, 5.3333]])\n"
          ]
        }
      ],
      "source": [
        "# toy example illustrating how matrix multiplication can be used for a \"weighted aggregation\"\n",
        "torch.manual_seed(42)\n",
        "a = torch.tril(torch.ones(3, 3))\n",
        "print(a)\n",
        "print(a.shape)\n",
        "a = a / torch.sum(a, 1, keepdim=True)\n",
        "b = torch.randint(0,10,(3,2)).float()\n",
        "c = a @ b\n",
        "print('a=')\n",
        "print(a)\n",
        "print('--')\n",
        "print('b=')\n",
        "print(b)\n",
        "print('--')\n",
        "print('c=')\n",
        "print(c)"
      ]
    },
    {
      "cell_type": "code",
      "execution_count": null,
      "metadata": {
        "colab": {
          "base_uri": "https://localhost:8080/"
        },
        "id": "Hs_E24uRE8kr",
        "outputId": "110f9e5f-0938-4df9-88f2-79f820190a90"
      },
      "outputs": [
        {
          "output_type": "execute_result",
          "data": {
            "text/plain": [
              "torch.Size([4, 8, 2])"
            ]
          },
          "metadata": {},
          "execution_count": 24
        }
      ],
      "source": [
        "# consider the following toy example:\n",
        "\n",
        "torch.manual_seed(1337)\n",
        "B,T,C = 4,8,2 # batch, time, channels\n",
        "x = torch.randn(B,T,C)\n",
        "x.shape"
      ]
    },
    {
      "cell_type": "code",
      "execution_count": null,
      "metadata": {
        "id": "86NuXX0fn7ps"
      },
      "outputs": [],
      "source": [
        "# We want x[b,t] = mean_{i<=t} x[b,i]\n",
        "xbow = torch.zeros((B,T,C))\n",
        "for b in range(B):\n",
        "    for t in range(T):\n",
        "        xprev = x[b,:t+1] # (t,C)\n",
        "        xbow[b,t] = torch.mean(xprev, 0)\n"
      ]
    },
    {
      "cell_type": "code",
      "execution_count": null,
      "metadata": {
        "colab": {
          "base_uri": "https://localhost:8080/"
        },
        "id": "yhdOAd6-wXkZ",
        "outputId": "a5364958-d85b-4796-8f71-54dcbb5a46f6"
      },
      "outputs": [
        {
          "output_type": "execute_result",
          "data": {
            "text/plain": [
              "False"
            ]
          },
          "metadata": {},
          "execution_count": 26
        }
      ],
      "source": [
        "# version 2: using matrix multiply for a weighted aggregation\n",
        "wei = torch.tril(torch.ones(T, T))\n",
        "wei = wei / wei.sum(1, keepdim=True)\n",
        "xbow2 = wei @ x # (B, T, T) @ (B, T, C) ----> (B, T, C)\n",
        "torch.allclose(xbow, xbow2)"
      ]
    },
    {
      "cell_type": "code",
      "execution_count": null,
      "metadata": {
        "colab": {
          "base_uri": "https://localhost:8080/"
        },
        "id": "wOURrfG-ysoL",
        "outputId": "75770f26-0b8b-46e3-8cb1-5f45ea7579dc"
      },
      "outputs": [
        {
          "output_type": "execute_result",
          "data": {
            "text/plain": [
              "False"
            ]
          },
          "metadata": {},
          "execution_count": 27
        }
      ],
      "source": [
        "# version 3: use Softmax\n",
        "tril = torch.tril(torch.ones(T, T))\n",
        "wei = torch.zeros((T,T))\n",
        "wei = wei.masked_fill(tril == 0, float('-inf'))\n",
        "wei = F.softmax(wei, dim=-1)\n",
        "xbow3 = wei @ x\n",
        "torch.allclose(xbow, xbow3)\n"
      ]
    },
    {
      "cell_type": "code",
      "execution_count": null,
      "metadata": {
        "colab": {
          "base_uri": "https://localhost:8080/"
        },
        "id": "EDarxEWIRMKq",
        "outputId": "0c3e7062-b70a-4a26-d051-d005a0aa9beb"
      },
      "outputs": [
        {
          "output_type": "execute_result",
          "data": {
            "text/plain": [
              "torch.Size([4, 8, 16])"
            ]
          },
          "metadata": {},
          "execution_count": 28
        }
      ],
      "source": [
        "# version 4: self-attention!\n",
        "torch.manual_seed(1337)\n",
        "B,T,C = 4,8,32 # batch, time, channels\n",
        "x = torch.randn(B,T,C)\n",
        "\n",
        "# let's see a single Head perform self-attention\n",
        "head_size = 16\n",
        "key = nn.Linear(C, head_size, bias=False)\n",
        "query = nn.Linear(C, head_size, bias=False)\n",
        "value = nn.Linear(C, head_size, bias=False)\n",
        "k = key(x)   # (B, T, 16)\n",
        "q = query(x) # (B, T, 16)\n",
        "wei =  q @ k.transpose(-2, -1) # (B, T, 16) @ (B, 16, T) ---> (B, T, T)\n",
        "\n",
        "tril = torch.tril(torch.ones(T, T))\n",
        "#wei = torch.zeros((T,T))\n",
        "wei = wei.masked_fill(tril == 0, float('-inf'))\n",
        "wei = F.softmax(wei, dim=-1)\n",
        "\n",
        "v = value(x)\n",
        "out = wei @ v\n",
        "#out = wei @ x\n",
        "\n",
        "out.shape"
      ]
    },
    {
      "cell_type": "code",
      "execution_count": null,
      "metadata": {
        "colab": {
          "base_uri": "https://localhost:8080/"
        },
        "id": "vT1hdtzXCjgL",
        "outputId": "b3c574d9-0bcd-4169-967b-b3da37b6780a"
      },
      "outputs": [
        {
          "output_type": "execute_result",
          "data": {
            "text/plain": [
              "tensor([[1.0000, 0.0000, 0.0000, 0.0000, 0.0000, 0.0000, 0.0000, 0.0000],\n",
              "        [0.1574, 0.8426, 0.0000, 0.0000, 0.0000, 0.0000, 0.0000, 0.0000],\n",
              "        [0.2088, 0.1646, 0.6266, 0.0000, 0.0000, 0.0000, 0.0000, 0.0000],\n",
              "        [0.5792, 0.1187, 0.1889, 0.1131, 0.0000, 0.0000, 0.0000, 0.0000],\n",
              "        [0.0294, 0.1052, 0.0469, 0.0276, 0.7909, 0.0000, 0.0000, 0.0000],\n",
              "        [0.0176, 0.2689, 0.0215, 0.0089, 0.6812, 0.0019, 0.0000, 0.0000],\n",
              "        [0.1691, 0.4066, 0.0438, 0.0416, 0.1048, 0.2012, 0.0329, 0.0000],\n",
              "        [0.0210, 0.0843, 0.0555, 0.2297, 0.0573, 0.0709, 0.2423, 0.2391]],\n",
              "       grad_fn=<SelectBackward0>)"
            ]
          },
          "metadata": {},
          "execution_count": 29
        }
      ],
      "source": [
        "wei[0]"
      ]
    },
    {
      "cell_type": "code",
      "execution_count": null,
      "metadata": {
        "id": "4SNbLq5z3oBw"
      },
      "outputs": [],
      "source": [
        "k = torch.randn(B,T,head_size)\n",
        "q = torch.randn(B,T,head_size)\n",
        "wei = q @ k.transpose(-2, -1) * head_size**-0.5"
      ]
    },
    {
      "cell_type": "code",
      "execution_count": null,
      "metadata": {
        "colab": {
          "base_uri": "https://localhost:8080/"
        },
        "id": "Nl6I9n9IRTSo",
        "outputId": "e19a88f3-54a1-4ffc-9a4e-1c0f8b722c1e"
      },
      "outputs": [
        {
          "output_type": "execute_result",
          "data": {
            "text/plain": [
              "tensor(1.0449)"
            ]
          },
          "metadata": {},
          "execution_count": 31
        }
      ],
      "source": [
        "k.var()"
      ]
    },
    {
      "cell_type": "code",
      "execution_count": null,
      "metadata": {
        "colab": {
          "base_uri": "https://localhost:8080/"
        },
        "id": "T1tQx7oeRvtc",
        "outputId": "f9453bcf-370d-4c50-ba72-01bcdf659752"
      },
      "outputs": [
        {
          "output_type": "execute_result",
          "data": {
            "text/plain": [
              "tensor(1.0700)"
            ]
          },
          "metadata": {},
          "execution_count": 32
        }
      ],
      "source": [
        "q.var()"
      ]
    },
    {
      "cell_type": "code",
      "execution_count": null,
      "metadata": {
        "colab": {
          "base_uri": "https://localhost:8080/"
        },
        "id": "MLb_odHU3iKM",
        "outputId": "9ba7cc9d-3d05-4dfd-9769-9e76007d9eeb"
      },
      "outputs": [
        {
          "output_type": "execute_result",
          "data": {
            "text/plain": [
              "tensor(1.0918)"
            ]
          },
          "metadata": {},
          "execution_count": 33
        }
      ],
      "source": [
        "wei.var()"
      ]
    },
    {
      "cell_type": "code",
      "execution_count": null,
      "metadata": {
        "colab": {
          "base_uri": "https://localhost:8080/"
        },
        "id": "JB82yzt44REI",
        "outputId": "c749755c-6f09-495f-e025-9d879235cd82"
      },
      "outputs": [
        {
          "output_type": "execute_result",
          "data": {
            "text/plain": [
              "tensor([0.1925, 0.1426, 0.2351, 0.1426, 0.2872])"
            ]
          },
          "metadata": {},
          "execution_count": 34
        }
      ],
      "source": [
        "torch.softmax(torch.tensor([0.1, -0.2, 0.3, -0.2, 0.5]), dim=-1)"
      ]
    },
    {
      "cell_type": "code",
      "execution_count": null,
      "metadata": {
        "colab": {
          "base_uri": "https://localhost:8080/"
        },
        "id": "Mpt8569BB9_f",
        "outputId": "271a5f21-eabf-4a00-f14d-f9a5056c82a4"
      },
      "outputs": [
        {
          "output_type": "execute_result",
          "data": {
            "text/plain": [
              "tensor([0.0326, 0.0030, 0.1615, 0.0030, 0.8000])"
            ]
          },
          "metadata": {},
          "execution_count": 35
        }
      ],
      "source": [
        "torch.softmax(torch.tensor([0.1, -0.2, 0.3, -0.2, 0.5])*8, dim=-1) # gets too peaky, converges to one-hot"
      ]
    },
    {
      "cell_type": "code",
      "execution_count": null,
      "metadata": {
        "colab": {
          "base_uri": "https://localhost:8080/"
        },
        "id": "2Num7sX9CKOH",
        "outputId": "d122c3d4-41f3-42b1-f046-5efcd73fca1b"
      },
      "outputs": [
        {
          "output_type": "execute_result",
          "data": {
            "text/plain": [
              "torch.Size([32, 100])"
            ]
          },
          "metadata": {},
          "execution_count": 36
        }
      ],
      "source": [
        "class LayerNorm1d: # (used to be BatchNorm1d)\n",
        "\n",
        "  def __init__(self, dim, eps=1e-5, momentum=0.1):\n",
        "    self.eps = eps\n",
        "    self.gamma = torch.ones(dim)\n",
        "    self.beta = torch.zeros(dim)\n",
        "\n",
        "  def __call__(self, x):\n",
        "    # calculate the forward pass\n",
        "    xmean = x.mean(1, keepdim=True) # batch mean\n",
        "    xvar = x.var(1, keepdim=True) # batch variance\n",
        "    xhat = (x - xmean) / torch.sqrt(xvar + self.eps) # normalize to unit variance\n",
        "    self.out = self.gamma * xhat + self.beta\n",
        "    return self.out\n",
        "\n",
        "  def parameters(self):\n",
        "    return [self.gamma, self.beta]\n",
        "\n",
        "torch.manual_seed(1337)\n",
        "module = LayerNorm1d(100)\n",
        "x = torch.randn(32, 100) # batch size 32 of 100-dimensional vectors\n",
        "x = module(x)\n",
        "x.shape"
      ]
    },
    {
      "cell_type": "code",
      "execution_count": null,
      "metadata": {
        "colab": {
          "base_uri": "https://localhost:8080/"
        },
        "id": "633T2cmnW1uk",
        "outputId": "38b4c993-ae70-42a8-9b93-a4e53c2ec978"
      },
      "outputs": [
        {
          "output_type": "execute_result",
          "data": {
            "text/plain": [
              "(tensor(0.1469), tensor(0.8803))"
            ]
          },
          "metadata": {},
          "execution_count": 37
        }
      ],
      "source": [
        "x[:,0].mean(), x[:,0].std() # mean,std of one feature across all batch inputs"
      ]
    },
    {
      "cell_type": "code",
      "execution_count": null,
      "metadata": {
        "colab": {
          "base_uri": "https://localhost:8080/"
        },
        "id": "LN9cK9BoXCYb",
        "outputId": "5c6df3c9-c8e7-438d-bb4c-2bb45545ab7b"
      },
      "outputs": [
        {
          "output_type": "execute_result",
          "data": {
            "text/plain": [
              "(tensor(-9.5367e-09), tensor(1.0000))"
            ]
          },
          "metadata": {},
          "execution_count": 38
        }
      ],
      "source": [
        "x[0,:].mean(), x[0,:].std() # mean,std of a single input from the batch, of its features"
      ]
    },
    {
      "cell_type": "code",
      "execution_count": null,
      "metadata": {
        "id": "dRJH6wM_XFfU"
      },
      "outputs": [],
      "source": [
        "# French to English translation example:\n",
        "\n",
        "# <--------- ENCODE ------------------><--------------- DECODE ----------------->\n",
        "# les réseaux de neurones sont géniaux! <START> neural networks are awesome!<END>\n",
        "\n"
      ]
    },
    {
      "cell_type": "markdown",
      "metadata": {
        "id": "ZcvKeBXoZFOY"
      },
      "source": [
        "### Full finished code, for reference\n",
        "\n",
        "You may want to refer directly to the git repo instead though."
      ]
    },
    {
      "cell_type": "code",
      "execution_count": null,
      "metadata": {
        "id": "hoelkOrFY8bN"
      },
      "outputs": [],
      "source": [
        "import torch\n",
        "import torch.nn as nn\n",
        "from torch.nn import functional as F\n",
        "\n",
        "# hyperparameters\n",
        "batch_size = 16 # how many independent sequences will we process in parallel?\n",
        "block_size = 32 # what is the maximum context length for predictions?\n",
        "max_iters = 5000\n",
        "eval_interval = 100\n",
        "learning_rate = 1e-3\n",
        "device = 'cuda' if torch.cuda.is_available() else 'cpu'\n",
        "eval_iters = 200\n",
        "n_embd = 64\n",
        "n_head = 4\n",
        "n_layer = 4\n",
        "dropout = 0.0\n",
        "# ------------\n",
        "\n",
        "torch.manual_seed(1337)\n",
        "\n",
        "# wget https://raw.githubusercontent.com/karpathy/char-rnn/master/data/tinyshakespeare/input.txt\n",
        "with open('input.txt', 'r', encoding='utf-8') as f:\n",
        "    text = f.read()\n",
        "\n",
        "# here are all the unique characters that occur in this text\n",
        "chars = sorted(list(set(text)))\n",
        "vocab_size = len(chars)\n",
        "# create a mapping from characters to integers\n",
        "stoi = { ch:i for i,ch in enumerate(chars) }\n",
        "itos = { i:ch for i,ch in enumerate(chars) }\n",
        "encode = lambda s: [stoi[c] for c in s] # encoder: take a string, output a list of integers\n",
        "decode = lambda l: ''.join([itos[i] for i in l]) # decoder: take a list of integers, output a string\n",
        "\n",
        "# Train and test splits\n",
        "data = torch.tensor(encode(text), dtype=torch.long)\n",
        "n = int(0.9*len(data)) # first 90% will be train, rest val\n",
        "train_data = data[:n]\n",
        "val_data = data[n:]\n",
        "\n",
        "# data loading\n",
        "def get_batch(split):\n",
        "    # generate a small batch of data of inputs x and targets y\n",
        "    data = train_data if split == 'train' else val_data\n",
        "    ix = torch.randint(len(data) - block_size, (batch_size,))\n",
        "    # print(ix.shape)\n",
        "    x = torch.stack([data[i:i+block_size] for i in ix])\n",
        "    y = torch.stack([data[i+1:i+block_size+1] for i in ix])\n",
        "    x, y = x.to(device), y.to(device)\n",
        "    # print(x.shape,y.shape)\n",
        "    return x, y\n",
        "\n",
        "@torch.no_grad()\n",
        "def estimate_loss():\n",
        "    out = {}\n",
        "    model.eval()\n",
        "    for split in ['train', 'val']:\n",
        "        losses = torch.zeros(eval_iters)\n",
        "        for k in range(eval_iters):\n",
        "            X, Y = get_batch(split)\n",
        "            logits, loss = model(X, Y)\n",
        "            losses[k] = loss.item()\n",
        "        out[split] = losses.mean()\n",
        "    model.train()\n",
        "    return out\n",
        "\n",
        "class Head(nn.Module):\n",
        "    \"\"\" one head of self-attention \"\"\"\n",
        "\n",
        "    def __init__(self, head_size):\n",
        "        super().__init__()\n",
        "        self.key = nn.Linear(n_embd, head_size, bias=False)\n",
        "        self.query = nn.Linear(n_embd, head_size, bias=False)\n",
        "        self.value = nn.Linear(n_embd, head_size, bias=False)\n",
        "        self.register_buffer('tril', torch.tril(torch.ones(block_size, block_size)))\n",
        "\n",
        "        self.dropout = nn.Dropout(dropout)\n",
        "\n",
        "    def forward(self, x):\n",
        "        B,T,C = x.shape\n",
        "        k = self.key(x)   # (B,T,C)\n",
        "        q = self.query(x) # (B,T,C)\n",
        "        # compute attention scores (\"affinities\")\n",
        "        wei = q @ k.transpose(-2,-1) * C**-0.5 # (B, T, C) @ (B, C, T) -> (B, T, T)\n",
        "        wei = wei.masked_fill(self.tril[:T, :T] == 0, float('-inf')) # (B, T, T)\n",
        "        wei = F.softmax(wei, dim=-1) # (B, T, T)\n",
        "        wei = self.dropout(wei)\n",
        "        # perform the weighted aggregation of the values\n",
        "        v = self.value(x) # (B,T,C)\n",
        "        out = wei @ v # (B, T, T) @ (B, T, C) -> (B, T, C)\n",
        "        return out\n",
        "\n",
        "class MultiHeadAttention(nn.Module):\n",
        "    \"\"\" multiple heads of self-attention in parallel \"\"\"\n",
        "\n",
        "    def __init__(self, num_heads, head_size):\n",
        "        super().__init__()\n",
        "        self.heads = nn.ModuleList([Head(head_size) for _ in range(num_heads)])\n",
        "        self.proj = nn.Linear(n_embd, n_embd)\n",
        "        self.dropout = nn.Dropout(dropout)\n",
        "\n",
        "    def forward(self, x):\n",
        "        out = torch.cat([h(x) for h in self.heads], dim=-1)\n",
        "        out = self.dropout(self.proj(out))\n",
        "        return out\n",
        "\n",
        "class FeedFoward(nn.Module):\n",
        "    \"\"\" a simple linear layer followed by a non-linearity \"\"\"\n",
        "\n",
        "    def __init__(self, n_embd):\n",
        "        super().__init__()\n",
        "        self.net = nn.Sequential(\n",
        "            nn.Linear(n_embd, 4 * n_embd),\n",
        "            nn.ReLU(),\n",
        "            nn.Linear(4 * n_embd, n_embd),\n",
        "            nn.Dropout(dropout),\n",
        "        )\n",
        "\n",
        "    def forward(self, x):\n",
        "        return self.net(x)\n",
        "\n",
        "class Block(nn.Module):\n",
        "    \"\"\" Transformer block: communication followed by computation \"\"\"\n",
        "\n",
        "    def __init__(self, n_embd, n_head):\n",
        "        # n_embd: embedding dimension, n_head: the number of heads we'd like\n",
        "        super().__init__()\n",
        "        head_size = n_embd // n_head\n",
        "        self.sa = MultiHeadAttention(n_head, head_size)\n",
        "        self.ffwd = FeedFoward(n_embd)\n",
        "        self.ln1 = nn.LayerNorm(n_embd)\n",
        "        self.ln2 = nn.LayerNorm(n_embd)\n",
        "\n",
        "    def forward(self, x):\n",
        "        x = x + self.sa(self.ln1(x))\n",
        "        x = x + self.ffwd(self.ln2(x))\n",
        "        return x\n",
        "\n",
        "# super simple bigram model\n",
        "class BigramLanguageModel(nn.Module):\n",
        "\n",
        "    def __init__(self):\n",
        "        super().__init__()\n",
        "        # each token directly reads off the logits for the next token from a lookup table\n",
        "        self.token_embedding_table = nn.Embedding(vocab_size, n_embd)\n",
        "        self.position_embedding_table = nn.Embedding(block_size, n_embd)\n",
        "        self.blocks = nn.Sequential(*[Block(n_embd, n_head=n_head) for _ in range(n_layer)])\n",
        "        self.ln_f = nn.LayerNorm(n_embd) # final layer norm\n",
        "        self.lm_head = nn.Linear(n_embd, vocab_size)\n",
        "\n",
        "    def forward(self, idx, targets=None):\n",
        "        B, T = idx.shape\n",
        "        # print(f\"input:{idx},\\n{idx.shape}\")\n",
        "        # idx and targets are both (B,T) tensor of integers\n",
        "        tok_emb = self.token_embedding_table(idx) # (B,T,C)\n",
        "        # print(tok_emb.shape)\n",
        "        pos_emb = self.position_embedding_table(torch.arange(T, device=device)) # (T,C)\n",
        "        x = tok_emb + pos_emb # (B,T,C)\n",
        "        x = self.blocks(x) # (B,T,C)\n",
        "        x = self.ln_f(x) # (B,T,C)\n",
        "        logits = self.lm_head(x) # (B,T,vocab_size)\n",
        "\n",
        "        if targets is None:\n",
        "            loss = None\n",
        "        else:\n",
        "            B, T, C = logits.shape\n",
        "            logits = logits.view(B*T, C)\n",
        "            targets = targets.view(B*T)\n",
        "            loss = F.cross_entropy(logits, targets)\n",
        "\n",
        "        return logits, loss\n",
        "\n",
        "    def generate(self, idx, max_new_tokens):\n",
        "        # idx is (B, T) array of indices in the current context\n",
        "        for _ in range(max_new_tokens):\n",
        "            # crop idx to the last block_size tokens\n",
        "            idx_cond = idx[:, -block_size:]\n",
        "            # get the predictions\n",
        "            logits, loss = self(idx_cond)\n",
        "            # focus only on the last time step\n",
        "            logits = logits[:, -1, :] # becomes (B, C)\n",
        "            # apply softmax to get probabilities\n",
        "            probs = F.softmax(logits, dim=-1) # (B, C)\n",
        "            # sample from the distribution\n",
        "            idx_next = torch.multinomial(probs, num_samples=1) # (B, 1)\n",
        "            # append sampled index to the running sequence\n",
        "            idx = torch.cat((idx, idx_next), dim=1) # (B, T+1)\n",
        "            # print(\"generate:\",idx.shape)\n",
        "        return idx\n",
        "\n",
        "model = BigramLanguageModel()\n",
        "m = model.to(device)\n",
        "# print the number of parameters in the model\n",
        "print(sum(p.numel() for p in m.parameters())/1e6, 'M parameters')\n",
        "\n",
        "# create a PyTorch optimizer\n",
        "optimizer = torch.optim.AdamW(model.parameters(), lr=learning_rate)\n",
        "\n",
        "for iter in range(max_iters):\n",
        "\n",
        "    # every once in a while evaluate the loss on train and val sets\n",
        "    if iter % eval_interval == 0 or iter == max_iters - 1:\n",
        "        losses = estimate_loss()\n",
        "        print(f\"step {iter}: train loss {losses['train']:.4f}, val loss {losses['val']:.4f}\")\n",
        "\n",
        "    # sample a batch of data\n",
        "    xb, yb = get_batch('train')\n",
        "\n",
        "    # evaluate the loss\n",
        "    logits, loss = model(xb, yb)\n",
        "    optimizer.zero_grad(set_to_none=True)\n",
        "    loss.backward()\n",
        "    optimizer.step()\n",
        "\n",
        "# generate from the model\n",
        "context = torch.zeros((1, 1), dtype=torch.long, device=device)\n",
        "print(context)\n",
        "print(decode(m.generate(context, max_new_tokens=2000)[0].tolist()))\n"
      ]
    },
    {
      "cell_type": "code",
      "source": [
        "# generate from the model\n",
        "context = torch.zeros((1, 1), dtype=torch.long, device=device)\n",
        "print(context)\n",
        "print(decode(m.generate(context, max_new_tokens=2000)[0].tolist()))"
      ],
      "metadata": {
        "colab": {
          "base_uri": "https://localhost:8080/"
        },
        "id": "__j6xKi_y0cZ",
        "outputId": "f90b4b45-b9e4-4575-fe4e-5f0dc973df0f"
      },
      "execution_count": null,
      "outputs": [
        {
          "output_type": "stream",
          "name": "stdout",
          "text": [
            "tensor([[0]])\n",
            "\n",
            "And thou tougesome the aways I dot?\n",
            "Now, grave to becaunfor with dightnerious givent, I but his gon,\n",
            "Suse, didrences wife; her\n",
            "take the not\n",
            "Rayth have all malter-dry me yough:\n",
            "What Have shee.\n",
            "\n",
            "SICINIUS:\n",
            "Is am thire;\n",
            "Nor a doth that make tread steed;\n",
            "Pirdied Desumph, now betwered's prettedy.\n",
            "Senst you not, to this fawn urtwon\n",
            "A beor her the my pactated with his fourtuny,\n",
            "Far is no his sut, you:--hont mandever's in\n",
            "grean mack.\n",
            "\n",
            "OXFORD:\n",
            "Your amnother Frield, whinds\n",
            "were his groy, now you read of tomm-hon-before hold,\n",
            "But cove pleasty of my his\n",
            "will se to his Gom\n",
            "Wears is thurgets gives there's up?\n",
            "I would loves minost.\n",
            "\n",
            "BOWNIRD:\n",
            "Some.\n",
            "Where you nock: so,\n",
            "Cave, my what a lasting that man to teetens\n",
            "To his much of so you\n",
            "was facentiong to you mine, and pent;\n",
            "Nor should since the vollation in in by his quirt.\n",
            "If Havanged, way his bomise.\n",
            "\n",
            "CORIOLANA:\n",
            "Nor hear your and-druph\n",
            "Behalt but you feld was that resding is is these lost;\n",
            "And sh, I hortain, I shou'll greart forge.\n",
            "not Plood, thy father cometore\n",
            "Nor the may would in Rightague:\n",
            "What the finke are sout ofing to have I\n",
            "miscands age shitin? why sleen thou them holth:\n",
            "What where it your inswoes!\n",
            "Through the cold losy the Come, worth,\n",
            "As, and brother sweet wishre hand be as mone.\n",
            "\n",
            "First My curmdon:\n",
            "Buts be, gold you longs,\n",
            "Say, his my desporterving their will,\n",
            "But thy vetot before's mile and the by those\n",
            "that her us onfetty, should her,\n",
            "and you clet Rome! betwicn, I wouldse, of madion's poswronts.\n",
            "Whus scontly, he let morty perty.\n",
            "\n",
            "QUEEN OF\n",
            "THUMBERLARENCE:\n",
            "No, to God faried and.\n",
            "\n",
            "HORTEN MARGARET:\n",
            "Servulious edenter your grievent,\n",
            "That lad you by hid thee 's and?\n",
            "What they the sbakes thus lordjet,\n",
            "Lood whose opere not off.\n",
            "\n",
            "BUCHESSIR:\n",
            "And,'\n",
            "get suport, be you it my freath,\n",
            "Brave a brothmed, so, pett, how\n",
            "washily encloly his me.\n",
            "\n",
            "NORFORD:\n",
            "Idless no fewle to twere it is Too\n",
            "the muster adow sheep to my nrourn, As that's gently his death.\n",
            "\n",
            "HENRY Everd Mughth greave of it.\n",
            "\n",
            "BRUCEN ELIZABETH:\n",
            "No, bear, this Korther it be the\n",
            "bradi\n"
          ]
        }
      ]
    },
    {
      "cell_type": "markdown",
      "metadata": {
        "id": "fjjvMifYZf7x"
      },
      "source": [
        "# 新的开始\n",
        "\n"
      ]
    },
    {
      "cell_type": "markdown",
      "metadata": {
        "id": "M5CvobiQ0pLr"
      },
      "source": [
        "![image.png](data:image/png;base64,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)\n",
        "\n",
        "$$\n",
        "Attention(Q,K,V)=softmax(\\frac{QK^T}{\\sqrt{d_k}})V\n",
        "$$\n",
        "\n",
        "Notes：\n",
        "- Attention是一种**通信机制**。可以看作是有向图中的节点彼此观察，并通过来自所有指向它们的节点的加权和来聚合信息，且权重是与数据相关的。\n",
        "- 这里没有空间的概念。Attention仅仅作用于一组向量上。这就是为什么我们需要对词元进行位置编码。\n",
        "- 当然，批处理维度中的每个示例都是完全独立处理的，彼此之间不会有任何“交互”。\n",
        "- 在“encoder”Attention block中，只需删除使用 `tril` 进行mask处理的那一行代码，这样就允许所有词元进行通信。这里的这个模块被称为“encoder”attention block，因为它采用了三角掩码，并且通常用于自回归设置中，比如语言建模。\n",
        "- “self-attention”仅仅意味着key和value与query来自相同的源(输入)。在“cross-attenion”中，query仍然由 x 生成，但key和value来自其他的外部源（例如，一个encode module）。\n",
        "- “scaled”attention还会将 `wei` 除以 1/sqrt(head_size)。这样一来，当输入的 Q、K 具有单位方差时，`wei` 也会具有单位方差，并且 Softmax 函数的输出会保持分散，不会过度饱和。如下所示。"
      ]
    },
    {
      "cell_type": "code",
      "source": [
        "# https://colab.research.google.com/drive/1EIDeyZPupgI3HQJ2MMz5uBf7A5OoNdUN#scrollTo=0MAokA76STZT\n",
        "# We always start with a dataset to train on. Let's download the tiny shakespeare dataset\n",
        "!wget https://raw.githubusercontent.com/karpathy/char-rnn/master/data/tinyshakespeare/input.txt"
      ],
      "metadata": {
        "id": "kv9uD5iO0yUM",
        "colab": {
          "base_uri": "https://localhost:8080/"
        },
        "outputId": "6e1815ee-a71b-4c58-a0f7-3b5c8d58396d"
      },
      "execution_count": 2,
      "outputs": [
        {
          "output_type": "stream",
          "name": "stdout",
          "text": [
            "--2025-03-11 14:30:34--  https://raw.githubusercontent.com/karpathy/char-rnn/master/data/tinyshakespeare/input.txt\n",
            "Resolving raw.githubusercontent.com (raw.githubusercontent.com)... 185.199.110.133, 185.199.108.133, 185.199.111.133, ...\n",
            "Connecting to raw.githubusercontent.com (raw.githubusercontent.com)|185.199.110.133|:443... connected.\n",
            "HTTP request sent, awaiting response... 200 OK\n",
            "Length: 1115394 (1.1M) [text/plain]\n",
            "Saving to: ‘input.txt’\n",
            "\n",
            "input.txt           100%[===================>]   1.06M  --.-KB/s    in 0.04s   \n",
            "\n",
            "2025-03-11 14:30:34 (27.8 MB/s) - ‘input.txt’ saved [1115394/1115394]\n",
            "\n"
          ]
        }
      ]
    },
    {
      "cell_type": "code",
      "source": [
        "\n",
        "# read it in to inspect it\n",
        "with open('input.txt', 'r', encoding='utf-8') as f:\n",
        "    text = f.read()\n",
        "print(\"length of dataset in characters: \", len(text))\n",
        "# here are all the unique characters that occur in this text\n",
        "chars = sorted(list(set(text)))\n",
        "vocab_size = len(chars)\n",
        "batch_size=16\n",
        "n_embd: int = 32\n",
        "head_size:int= 64\n",
        "seq_length=20\n",
        "print(''.join(chars))\n",
        "print(f\"vocab_size:{vocab_size}\")\n",
        "\n",
        "# create a mapping from characters to integers\n",
        "stoi = { ch:i for i,ch in enumerate(chars) }\n",
        "itos = { i:ch for i,ch in enumerate(chars) }\n",
        "\n",
        "\n",
        "\n",
        "\n",
        "def encode_char(chars):\n",
        "  idxs=[]\n",
        "  for c in chars:\n",
        "    idx=stoi[c]\n",
        "    idxs.append(idx)\n",
        "  return idxs\n",
        "def decode_char_idx(idxs):\n",
        "  s=\"\"\n",
        "  for i in idxs:\n",
        "    s+=itos[i]\n",
        "  return s\n",
        "\n",
        "encode = lambda s: [stoi[c] for c in s] # encoder: take a string, output a list of integers\n",
        "decode = lambda l: ''.join([itos[i] for i in l]) # decoder: take a list of integers, output a string\n",
        "\n",
        "s=\"hii there\"\n",
        "print(len(s))\n",
        "print(encode(s),len(encode(s)))\n",
        "print(decode(encode(\"hii there\")))\n",
        "# let's now encode the entire text dataset and store it into a torch.Tensor\n",
        "import torch # we use PyTorch: https://pytorch.org\n",
        "import torch.nn as nn\n",
        "device = 'cuda' if torch.cuda.is_available() else 'cpu'\n",
        "class CausalSelfAttention(nn.Module):\n",
        "  def __init__(self,n_embed,head_size,seq_len,dropout=0.):\n",
        "    super().__init__()\n",
        "    self.q=nn.Linear(n_embed,head_size)\n",
        "    self.k=nn.Linear(n_embed,head_size)\n",
        "    self.v=nn.Linear(n_embed,head_size)\n",
        "\n",
        "    self.register_buffer(\"tril\",torch.tril(torch.ones(seq_len,seq_len)))\n",
        "    self.dropout=nn.Dropout(dropout)\n",
        "  def forward(self,x):\n",
        "    B,T,C=x.shape #\n",
        "    q=self.q(x) # B,T,head_size\n",
        "    k=self.k(x) # B,T,head_size\n",
        "    v=self.v(x) # B,T,head_size\n",
        "\n",
        "    # 计算 acctention scores\n",
        "    att=q@k.transpose(-2,-1)*(1/torch.sqrt(torch.tensor(k.size(-1)))) #(B,T,head_size)@(B,head_size,T)=(B,T,T)\n",
        "    att=att.masked_fill(self.tril[:T,:T]==0,float('-inf')) # (B,T,T)\n",
        "    att=nn.functional.softmax(att,dim=-1) # (B,T,T)\n",
        "    att=self.dropout(att)\n",
        "\n",
        "    out=att@v #(B,T,T)@(B,T,head_size)=(B,T,head_size)\n",
        "\n",
        "    return out\n",
        "\n",
        "\n",
        "def get_batch(data,seq_length,batch_size,device):\n",
        "\n",
        "  index_x=torch.randint(len(data)-seq_length,(batch_size,))\n",
        "  print(f\"index_x:{index_x.shape},{index_x}\")\n",
        "\n",
        "  x=torch.stack([data[i:i+seq_length] for i in index_x])\n",
        "  y=torch.stack([data[i+1:i+seq_length+1] for i in index_x])\n",
        "\n",
        "  # x,y=x.to(device),y.to(device)\n",
        "  return x,y\n",
        "\n",
        "\n",
        "\n",
        "\n",
        "\n",
        "\n",
        "data = torch.tensor(encode(text), dtype=torch.long)\n",
        "print(data.shape, data.dtype)\n",
        "print(data[:10]) # the 1000 characters we looked at earier will to the GPT look like this\n",
        "\n",
        "\n",
        "\n",
        "emb1=nn.Embedding(vocab_size,n_embd) # vocab_size nembed\n",
        "# emb1=emb1.to(device)\n",
        "emb1.weight.shape\n",
        "em_data=emb1(data)\n",
        "print(em_data.shape)\n",
        "print(data[0])\n",
        "print(em_data[0],em_data[0].shape)\n",
        "\n",
        "x,y=get_batch(data,seq_length,batch_size,device)\n",
        "print(x.size(),y.size())\n",
        "ex=emb1(x)\n",
        "attent=CausalSelfAttention(n_embd,head_size,seq_length)\n",
        "emb1_x=attent(ex)\n",
        "print(emb1_x.shape)\n"
      ],
      "metadata": {
        "colab": {
          "base_uri": "https://localhost:8080/"
        },
        "id": "jQsL8Ri9CdTA",
        "outputId": "a903f35f-7d62-4170-ffd9-fd2ef4f19985"
      },
      "execution_count": 9,
      "outputs": [
        {
          "output_type": "stream",
          "name": "stdout",
          "text": [
            "length of dataset in characters:  1115394\n",
            "\n",
            " !$&',-.3:;?ABCDEFGHIJKLMNOPQRSTUVWXYZabcdefghijklmnopqrstuvwxyz\n",
            "vocab_size:65\n",
            "9\n",
            "[46, 47, 47, 1, 58, 46, 43, 56, 43] 9\n",
            "hii there\n",
            "torch.Size([1115394]) torch.int64\n",
            "tensor([18, 47, 56, 57, 58,  1, 15, 47, 58, 47])\n",
            "torch.Size([1115394, 32])\n",
            "tensor(18)\n",
            "tensor([ 0.1263,  0.6762, -0.5532,  0.8301, -0.3605, -0.3595, -1.0900,  0.8885,\n",
            "         0.8887,  0.8470,  0.8669, -1.8409, -1.2781, -1.2868, -0.1621, -1.5081,\n",
            "        -0.3848,  0.0765,  0.6817, -0.0286,  0.3916, -0.1285, -1.6687, -0.8882,\n",
            "        -0.5603, -0.1376,  1.1085,  1.5932, -0.9877,  1.0170,  0.0832,  0.0864],\n",
            "       grad_fn=<SelectBackward0>) torch.Size([32])\n",
            "index_x:torch.Size([16]),tensor([ 239023,  748717,  142843,  227012,  224544,  930959,  432780,  708959,\n",
            "        1026454,  153337, 1034789,   40787,  144495,  474658,  530548,  994866])\n",
            "torch.Size([16, 20]) torch.Size([16, 20])\n",
            "torch.Size([16, 20, 64])\n"
          ]
        }
      ]
    },
    {
      "cell_type": "code",
      "source": [
        "s=\"hello,word!\"\n",
        "en1=encode(s)\n",
        "en2=encode_char(s)\n",
        "print(f\"encode1:{en1}\")\n",
        "print(f\"encode2:{en2}\")\n",
        "\n",
        "print(decode(en1))\n",
        "print(decode_char_idx(en2))\n",
        "\n",
        "t1=torch.ones(12,12)\n",
        "t2=torch.tril(t1)\n",
        "print(t1)\n",
        "print(t2)"
      ],
      "metadata": {
        "colab": {
          "base_uri": "https://localhost:8080/"
        },
        "id": "b5fC3Ab8DEJx",
        "outputId": "9c1d2b07-7781-4da7-b4d4-12bf062ad2b9"
      },
      "execution_count": null,
      "outputs": [
        {
          "output_type": "stream",
          "name": "stdout",
          "text": [
            "encode1:[46, 43, 50, 50, 53, 6, 61, 53, 56, 42, 2]\n",
            "encode2:[46, 43, 50, 50, 53, 6, 61, 53, 56, 42, 2]\n",
            "hello,word!\n",
            "hello,word!\n",
            "tensor([[1., 1., 1., 1., 1., 1., 1., 1., 1., 1., 1., 1.],\n",
            "        [1., 1., 1., 1., 1., 1., 1., 1., 1., 1., 1., 1.],\n",
            "        [1., 1., 1., 1., 1., 1., 1., 1., 1., 1., 1., 1.],\n",
            "        [1., 1., 1., 1., 1., 1., 1., 1., 1., 1., 1., 1.],\n",
            "        [1., 1., 1., 1., 1., 1., 1., 1., 1., 1., 1., 1.],\n",
            "        [1., 1., 1., 1., 1., 1., 1., 1., 1., 1., 1., 1.],\n",
            "        [1., 1., 1., 1., 1., 1., 1., 1., 1., 1., 1., 1.],\n",
            "        [1., 1., 1., 1., 1., 1., 1., 1., 1., 1., 1., 1.],\n",
            "        [1., 1., 1., 1., 1., 1., 1., 1., 1., 1., 1., 1.],\n",
            "        [1., 1., 1., 1., 1., 1., 1., 1., 1., 1., 1., 1.],\n",
            "        [1., 1., 1., 1., 1., 1., 1., 1., 1., 1., 1., 1.],\n",
            "        [1., 1., 1., 1., 1., 1., 1., 1., 1., 1., 1., 1.]])\n",
            "tensor([[1., 0., 0., 0., 0., 0., 0., 0., 0., 0., 0., 0.],\n",
            "        [1., 1., 0., 0., 0., 0., 0., 0., 0., 0., 0., 0.],\n",
            "        [1., 1., 1., 0., 0., 0., 0., 0., 0., 0., 0., 0.],\n",
            "        [1., 1., 1., 1., 0., 0., 0., 0., 0., 0., 0., 0.],\n",
            "        [1., 1., 1., 1., 1., 0., 0., 0., 0., 0., 0., 0.],\n",
            "        [1., 1., 1., 1., 1., 1., 0., 0., 0., 0., 0., 0.],\n",
            "        [1., 1., 1., 1., 1., 1., 1., 0., 0., 0., 0., 0.],\n",
            "        [1., 1., 1., 1., 1., 1., 1., 1., 0., 0., 0., 0.],\n",
            "        [1., 1., 1., 1., 1., 1., 1., 1., 1., 0., 0., 0.],\n",
            "        [1., 1., 1., 1., 1., 1., 1., 1., 1., 1., 0., 0.],\n",
            "        [1., 1., 1., 1., 1., 1., 1., 1., 1., 1., 1., 0.],\n",
            "        [1., 1., 1., 1., 1., 1., 1., 1., 1., 1., 1., 1.]])\n"
          ]
        }
      ]
    },
    {
      "cell_type": "markdown",
      "metadata": {
        "id": "IYE-tvnde3-l"
      },
      "source": [
        "## GPT2 model"
      ]
    },
    {
      "cell_type": "code",
      "execution_count": null,
      "metadata": {
        "id": "nvMDXbtjezPM"
      },
      "outputs": [],
      "source": [
        "\"\"\"\n",
        "Full definition of a GPT Language Model, all of it in this single file.\n",
        "References:\n",
        "1) the official GPT-2 TensorFlow implementation released by OpenAI:\n",
        "https://github.com/openai/gpt-2/blob/master/src/model.py\n",
        "2) huggingface/transformers PyTorch implementation:\n",
        "https://github.com/huggingface/transformers/blob/main/src/transformers/models/gpt2/modeling_gpt2.py\n",
        "\"\"\"\n",
        "\n",
        "import inspect\n",
        "import math\n",
        "from dataclasses import dataclass\n",
        "\n",
        "import torch\n",
        "import torch.nn as nn\n",
        "from torch.nn import functional as F\n",
        "\n",
        "\n",
        "@dataclass\n",
        "class GPTConfig:\n",
        "    block_size: int = 1024\n",
        "    vocab_size: int = 50304 # GPT-2 vocab_size of 50257, padded up to nearest multiple of 64 for efficiency\n",
        "    n_layer: int = 12\n",
        "    n_head: int = 12\n",
        "    n_embd: int = 768\n",
        "    dropout: float = 0.0\n",
        "    bias: bool = True # True: bias in Linears and LayerNorms, like GPT-2. False: a bit better and faster\n",
        "\n",
        "class LayerNorm(nn.Module):\n",
        "    \"\"\" LayerNorm but with an optional bias. PyTorch doesn't support simply bias=False \"\"\"\n",
        "\n",
        "    def __init__(self, ndim, bias):\n",
        "        super().__init__()\n",
        "        self.weight = nn.Parameter(torch.ones(ndim))\n",
        "        self.bias = nn.Parameter(torch.zeros(ndim)) if bias else None\n",
        "\n",
        "    def forward(self, input):\n",
        "        return F.layer_norm(input, self.weight.shape, self.weight, self.bias, 1e-5)\n",
        "\n",
        "class CausalSelfAttention(nn.Module):\n",
        "\n",
        "    def __init__(self, config):\n",
        "        super().__init__()\n",
        "        assert config.n_embd % config.n_head == 0\n",
        "        # 在batch中的所有head的key, query, value projections\n",
        "        self.c_attn = nn.Linear(config.n_embd, 3 * config.n_embd, bias=config.bias)\n",
        "        # output projection\n",
        "        self.c_proj = nn.Linear(config.n_embd, config.n_embd, bias=config.bias)\n",
        "        # regularization\n",
        "        self.attn_dropout = nn.Dropout(config.dropout)\n",
        "        self.resid_dropout = nn.Dropout(config.dropout)\n",
        "        self.n_head = config.n_head\n",
        "        self.n_embd = config.n_embd\n",
        "        self.dropout = config.dropout\n",
        "        # flash attention 使GPU变得快，但支持仅在PyTorch>=2.0中\n",
        "        self.flash = hasattr(torch.nn.functional, 'scaled_dot_product_attention')\n",
        "        if not self.flash:\n",
        "            print(\"WARNING: using slow attention. Flash Attention requires PyTorch >= 2.0\")\n",
        "            # causal mask 以确保attention仅应用于输入序列中的左侧\n",
        "            self.register_buffer(\"bias\", torch.tril(torch.ones(config.block_size, config.block_size))\n",
        "                                        .view(1, 1, config.block_size, config.block_size))\n",
        "\n",
        "    def forward(self, x):\n",
        "        B, T, C = x.size() # batch size, sequence length, embedding dimensionality (n_embd)\n",
        "\n",
        "        # 计算所有head的q,k,v，并且交换sequence和h_head的dim # TODO: check this\n",
        "        q, k, v  = self.c_attn(x).split(self.n_embd, dim=2)\n",
        "        k = k.view(B, T, self.n_head, C // self.n_head).transpose(1, 2) # (B, nh, T, hs)\n",
        "        q = q.view(B, T, self.n_head, C // self.n_head).transpose(1, 2) # (B, nh, T, hs)\n",
        "        v = v.view(B, T, self.n_head, C // self.n_head).transpose(1, 2) # (B, nh, T, hs)\n",
        "\n",
        "        # causal self-attention; Self-attend: (B, nh, T, hs) x (B, nh, hs, T) -> (B, nh, T, T)\n",
        "        if self.flash:\n",
        "            # efficient attention using Flash Attention CUDA kernels\n",
        "            y = torch.nn.functional.scaled_dot_product_attention(q, k, v, attn_mask=None, dropout_p=self.dropout if self.training else 0, is_causal=True)\n",
        "        else:\n",
        "            # 手动实现attention\n",
        "            att = (q @ k.transpose(-2, -1)) * (1.0 / math.sqrt(k.size(-1)))\n",
        "            att = att.masked_fill(self.bias[:,:,:T,:T] == 0, float('-inf'))\n",
        "            att = F.softmax(att, dim=-1)\n",
        "            att = self.attn_dropout(att)\n",
        "            y = att @ v # (B, nh, T, T) x (B, nh, T, hs) -> (B, nh, T, hs)\n",
        "        y = y.transpose(1, 2).contiguous().view(B, T, C) # re-assemble all head outputs side by side\n",
        "\n",
        "        # output projection\n",
        "        y = self.resid_dropout(self.c_proj(y))\n",
        "        return y\n",
        "\n",
        "class MLP(nn.Module):\n",
        "\n",
        "    def __init__(self, config):\n",
        "        super().__init__()\n",
        "        self.c_fc    = nn.Linear(config.n_embd, 4 * config.n_embd, bias=config.bias)\n",
        "        self.gelu    = nn.GELU()\n",
        "        self.c_proj  = nn.Linear(4 * config.n_embd, config.n_embd, bias=config.bias)\n",
        "        self.dropout = nn.Dropout(config.dropout)\n",
        "\n",
        "    def forward(self, x):\n",
        "        x = self.c_fc(x)\n",
        "        x = self.gelu(x)\n",
        "        x = self.c_proj(x)\n",
        "        x = self.dropout(x)\n",
        "        return x\n",
        "\n",
        "class Block(nn.Module):\n",
        "\n",
        "    def __init__(self, config):\n",
        "        super().__init__()\n",
        "        self.ln_1 = LayerNorm(config.n_embd, bias=config.bias)\n",
        "        self.attn = CausalSelfAttention(config)\n",
        "        self.ln_2 = LayerNorm(config.n_embd, bias=config.bias)\n",
        "        self.mlp = MLP(config)\n",
        "\n",
        "    def forward(self, x):\n",
        "        x = x + self.attn(self.ln_1(x))\n",
        "        x = x + self.mlp(self.ln_2(x))\n",
        "        return x\n",
        "\n",
        "\n",
        "class GPT(nn.Module):\n",
        "\n",
        "    def __init__(self, config):\n",
        "        super().__init__()\n",
        "        assert config.vocab_size is not None\n",
        "        assert config.block_size is not None\n",
        "        self.config = config\n",
        "\n",
        "        self.transformer = nn.ModuleDict(dict(\n",
        "            wte = nn.Embedding(config.vocab_size, config.n_embd),\n",
        "            wpe = nn.Embedding(config.block_size, config.n_embd),\n",
        "            drop = nn.Dropout(config.dropout),\n",
        "            h = nn.ModuleList([Block(config) for _ in range(config.n_layer)]),\n",
        "            ln_f = LayerNorm(config.n_embd, bias=config.bias),\n",
        "        ))\n",
        "        self.lm_head = nn.Linear(config.n_embd, config.vocab_size, bias=False)\n",
        "        # 使用torch.compile()时权重绑定会生成一些警告：\n",
        "        # \"用户警告：functional_call传递了多个绑定权重值。\n",
        "        # 此行为已弃用，将在未来版本中成为错误”\n",
        "        # 不能100%确定这是什么，到目前为止似乎是无害的。TODO 调查\n",
        "        self.transformer.wte.weight = self.lm_head.weight # https://paperswithcode.com/method/weight-tying\n",
        "\n",
        "        # init all weights\n",
        "        self.apply(self._init_weights)\n",
        "        # 根据GPT-2论文，将特殊缩放的初始化应用于residual projections\n",
        "        for pn, p in self.named_parameters():\n",
        "            if pn.endswith('c_proj.weight'):\n",
        "                torch.nn.init.normal_(p, mean=0.0, std=0.02/math.sqrt(2 * config.n_layer))\n",
        "\n",
        "        # report number of parameters\n",
        "        print(\"number of parameters: %.2fM\" % (self.get_num_params()/1e6,))\n",
        "\n",
        "    def get_num_params(self, non_embedding=True):\n",
        "        \"\"\"\n",
        "        返回模型中的参数量\n",
        "        对于非嵌入计数（默认），减去位置嵌入。\n",
        "        token embedding 也是如此，除非参数共享这些\n",
        "        params实际上用作最后一层的权重，因此我们包含它们。\n",
        "        \"\"\"\n",
        "        n_params = sum(p.numel() for p in self.parameters())\n",
        "        if non_embedding:\n",
        "            n_params -= self.transformer.wpe.weight.numel()\n",
        "        return n_params\n",
        "\n",
        "    def _init_weights(self, module):\n",
        "        if isinstance(module, nn.Linear):\n",
        "            torch.nn.init.normal_(module.weight, mean=0.0, std=0.02)\n",
        "            if module.bias is not None:\n",
        "                torch.nn.init.zeros_(module.bias)\n",
        "        elif isinstance(module, nn.Embedding):\n",
        "            torch.nn.init.normal_(module.weight, mean=0.0, std=0.02)\n",
        "\n",
        "    def forward(self, idx, targets=None):\n",
        "        device = idx.device\n",
        "        b, t = idx.size()\n",
        "        assert t <= self.config.block_size, f\"Cannot forward sequence of length {t}, block size is only {self.config.block_size}\"\n",
        "        pos = torch.arange(0, t, dtype=torch.long, device=device) # shape (t)\n",
        "\n",
        "        # forward the GPT model itself\n",
        "        tok_emb = self.transformer.wte(idx) # token embeddings of shape (b, t, n_embd)\n",
        "        pos_emb = self.transformer.wpe(pos) # position embeddings of shape (t, n_embd)\n",
        "        x = self.transformer.drop(tok_emb + pos_emb)\n",
        "        for block in self.transformer.h:\n",
        "            x = block(x)\n",
        "        x = self.transformer.ln_f(x)\n",
        "\n",
        "        if targets is not None:\n",
        "            # targets 存在时，计算loss\n",
        "            logits = self.lm_head(x)\n",
        "            loss = F.cross_entropy(logits.view(-1, logits.size(-1)), targets.view(-1), ignore_index=-1)\n",
        "        else:\n",
        "            # inference-time mini-optimization: 仅在最后一个位置lm_head\n",
        "            logits = self.lm_head(x[:, [-1], :]) # note: using list [-1] to preserve the time dim\n",
        "            loss = None\n",
        "\n",
        "        return logits, loss\n",
        "\n",
        "    def crop_block_size(self, block_size):\n",
        "        # 必要时可以减少模型的block size。例如，我们可能会加载 GPT - 2 预训练模型的检查点（block size=1024），但对于一些规模更小、更简单的模型，我们希望使用更小的块大小。\n",
        "        assert block_size <= self.config.block_size\n",
        "        self.config.block_size = block_size\n",
        "        self.transformer.wpe.weight = nn.Parameter(self.transformer.wpe.weight[:block_size])\n",
        "        for block in self.transformer.h:\n",
        "            if hasattr(block.attn, 'bias'):\n",
        "                block.attn.bias = block.attn.bias[:,:,:block_size,:block_size]\n",
        "\n",
        "    @classmethod\n",
        "    def from_pretrained(cls, model_type, override_args=None):\n",
        "        assert model_type in {'gpt2', 'gpt2-medium', 'gpt2-large', 'gpt2-xl'}\n",
        "        override_args = override_args or {} # default to empty dict\n",
        "        # 只有dropout可以被覆盖，请参阅下面的更多注释\n",
        "        assert all(k == 'dropout' for k in override_args)\n",
        "        from transformers import GPT2LMHeadModel\n",
        "        print(\"loading weights from pretrained gpt: %s\" % model_type)\n",
        "\n",
        "        # n_layer, n_head and n_embd 由 mode_type 确定\n",
        "        config_args = {\n",
        "            'gpt2':         dict(n_layer=12, n_head=12, n_embd=768),  # 124M params\n",
        "            'gpt2-medium':  dict(n_layer=24, n_head=16, n_embd=1024), # 350M params\n",
        "            'gpt2-large':   dict(n_layer=36, n_head=20, n_embd=1280), # 774M params\n",
        "            'gpt2-xl':      dict(n_layer=48, n_head=25, n_embd=1600), # 1558M params\n",
        "        }[model_type]\n",
        "        print(\"forcing vocab_size=50257, block_size=1024, bias=True\")\n",
        "        config_args['vocab_size'] = 50257 # always 50257 for GPT model checkpoints\n",
        "        config_args['block_size'] = 1024 # always 1024 for GPT model checkpoints\n",
        "        config_args['bias'] = True # always True for GPT model checkpoints\n",
        "        # 如果需要，我们可以覆盖dropout rate\n",
        "        if 'dropout' in override_args:\n",
        "            print(f\"overriding dropout rate to {override_args['dropout']}\")\n",
        "            config_args['dropout'] = override_args['dropout']\n",
        "        # 创建并从头开始初始化miniGPT模型\n",
        "        config = GPTConfig(**config_args)\n",
        "        model = GPT(config)\n",
        "        sd = model.state_dict()\n",
        "        sd_keys = sd.keys()\n",
        "        sd_keys = [k for k in sd_keys if not k.endswith('.attn.bias')] # discard this mask / buffer, not a param\n",
        "\n",
        "        # init a huggingface/transformers model\n",
        "        model_hf = GPT2LMHeadModel.from_pretrained(model_type)\n",
        "        sd_hf = model_hf.state_dict()\n",
        "\n",
        "        # 复制同时确保所有参数在名称和形状上对齐和匹配\n",
        "        sd_keys_hf = sd_hf.keys()\n",
        "        sd_keys_hf = [k for k in sd_keys_hf if not k.endswith('.attn.masked_bias')] # 丢弃此buffer\n",
        "        sd_keys_hf = [k for k in sd_keys_hf if not k.endswith('.attn.bias')] # 丢弃此mask / buffer\n",
        "        transposed = ['attn.c_attn.weight', 'attn.c_proj.weight', 'mlp.c_fc.weight', 'mlp.c_proj.weight']\n",
        "        #  OpenAI 的checkpoints使用了一个 “Conv1D”（一维卷积）模块，但我们只想使用一个普通的线性（Linear）层。这意味着在导入这些权重时，必须对这些权重进行转置操作\n",
        "        assert len(sd_keys_hf) == len(sd_keys), f\"mismatched keys: {len(sd_keys_hf)} != {len(sd_keys)}\"\n",
        "        for k in sd_keys_hf:\n",
        "            if any(k.endswith(w) for w in transposed):\n",
        "                # 转置的Conv1D权重的特殊处理\n",
        "                assert sd_hf[k].shape[::-1] == sd[k].shape\n",
        "                with torch.no_grad():\n",
        "                    sd[k].copy_(sd_hf[k].t())\n",
        "            else:\n",
        "                # 正常复制其他所有参数other parameters\n",
        "                assert sd_hf[k].shape == sd[k].shape\n",
        "                with torch.no_grad():\n",
        "                    sd[k].copy_(sd_hf[k])\n",
        "\n",
        "        return model\n",
        "\n",
        "    def configure_optimizers(self, weight_decay, learning_rate, betas, device_type):\n",
        "        # 从所有候选参数开始\n",
        "        param_dict = {pn: p for pn, p in self.named_parameters()}\n",
        "        # 过滤掉那些不需要梯度的参数\n",
        "        param_dict = {pn: p for pn, p in param_dict.items() if p.requires_grad}\n",
        "        # 创建optim组，任何2D参数都将被权重衰减\n",
        "        # 即 matmuls + embeddings中的所有权重张量都会衰减，所有biases and layernorms都不会。\n",
        "        decay_params = [p for n, p in param_dict.items() if p.dim() >= 2]\n",
        "        nodecay_params = [p for n, p in param_dict.items() if p.dim() < 2]\n",
        "        optim_groups = [\n",
        "            {'params': decay_params, 'weight_decay': weight_decay},\n",
        "            {'params': nodecay_params, 'weight_decay': 0.0}\n",
        "        ]\n",
        "        num_decay_params = sum(p.numel() for p in decay_params)\n",
        "        num_nodecay_params = sum(p.numel() for p in nodecay_params)\n",
        "        print(f\"num decayed parameter tensors: {len(decay_params)}, with {num_decay_params:,} parameters\")\n",
        "        print(f\"num non-decayed parameter tensors: {len(nodecay_params)}, with {num_nodecay_params:,} parameters\")\n",
        "        #创建AdamW优化器并使用融合版本（如果可用）\n",
        "        fused_available = 'fused' in inspect.signature(torch.optim.AdamW).parameters\n",
        "        use_fused = fused_available and device_type == 'cuda'\n",
        "        extra_args = dict(fused=True) if use_fused else dict()\n",
        "        optimizer = torch.optim.AdamW(optim_groups, lr=learning_rate, betas=betas, **extra_args)\n",
        "        print(f\"using fused AdamW: {use_fused}\")\n",
        "\n",
        "        return optimizer\n",
        "\n",
        "    def estimate_mfu(self, fwdbwd_per_iter, dt):\n",
        "        \"\"\" estimate model flops utilization (MFU) in units of A100 bfloat16 peak FLOPS \"\"\"\n",
        "        # first estimate the number of flops we do per iteration.\n",
        "        # see PaLM paper Appendix B as ref: https://arxiv.org/abs/2204.02311\n",
        "        N = self.get_num_params()\n",
        "        cfg = self.config\n",
        "        L, H, Q, T = cfg.n_layer, cfg.n_head, cfg.n_embd//cfg.n_head, cfg.block_size\n",
        "        flops_per_token = 6*N + 12*L*H*Q*T\n",
        "        flops_per_fwdbwd = flops_per_token * T\n",
        "        flops_per_iter = flops_per_fwdbwd * fwdbwd_per_iter\n",
        "        # 将触发器吞吐量表示为A100 bfloat16峰值触发器的比率\n",
        "        flops_achieved = flops_per_iter * (1.0/dt) # per second\n",
        "        flops_promised = 312e12 # A100 GPU bfloat16峰值翻转为312 TFLOPS\n",
        "        mfu = flops_achieved / flops_promised\n",
        "        return mfu\n",
        "\n",
        "    @torch.no_grad()\n",
        "    def generate(self, idx, max_new_tokens, temperature=1.0, top_k=None):\n",
        "        \"\"\"\n",
        "        取索引idx(LongTensor of shape (b,t))的条件序列并完成\n",
        "        序列max_new_tokens次，每次都将预测反馈到模型中。\n",
        "        最好确保处于model.eval()操作模式。\n",
        "        \"\"\"\n",
        "        for _ in range(max_new_tokens):\n",
        "            # 如果序列的上下文长度超过block_size，裁剪到block_size\n",
        "            idx_cond = idx if idx.size(1) <= self.config.block_size else idx[:, -self.config.block_size:]\n",
        "            # 前向传播idx_cond以获取logits\n",
        "            logits, _ = self(idx_cond)\n",
        "            ## 在最后一步提取logits并按所需temperature缩放\n",
        "            logits = logits[:, -1, :] / temperature\n",
        "            #  可选择将logits裁剪为仅top k个选项\n",
        "            if top_k is not None:\n",
        "                v, _ = torch.topk(logits, min(top_k, logits.size(-1)))\n",
        "                logits[logits < v[:, [-1]]] = -float('Inf')\n",
        "            # 应用softmax将logits转换为（标准化）概率\n",
        "            probs = F.softmax(logits, dim=-1)\n",
        "            # 从概率分布中采样下一个token\n",
        "            idx_next = torch.multinomial(probs, num_samples=1)\n",
        "            # 将采样索引附加到运行序列并继续\n",
        "            idx = torch.cat((idx, idx_next), dim=1)\n",
        "\n",
        "        return idx"
      ]
    },
    {
      "cell_type": "code",
      "source": [],
      "metadata": {
        "id": "BiquqQ9u7rzq"
      },
      "execution_count": null,
      "outputs": []
    },
    {
      "cell_type": "markdown",
      "metadata": {
        "id": "PKYAbT5ffav2"
      },
      "source": [
        "## 准备数据"
      ]
    },
    {
      "cell_type": "code",
      "execution_count": null,
      "metadata": {
        "id": "xMjDxEG4ex-C",
        "colab": {
          "base_uri": "https://localhost:8080/"
        },
        "outputId": "90041415-ddfd-40c6-8c3c-0bed49c7f131"
      },
      "outputs": [
        {
          "output_type": "stream",
          "name": "stdout",
          "text": [
            "--2025-03-02 08:30:08--  https://raw.githubusercontent.com/karpathy/char-rnn/master/data/tinyshakespeare/input.txt\n",
            "Resolving raw.githubusercontent.com (raw.githubusercontent.com)... 185.199.108.133, 185.199.109.133, 185.199.110.133, ...\n",
            "Connecting to raw.githubusercontent.com (raw.githubusercontent.com)|185.199.108.133|:443... connected.\n",
            "HTTP request sent, awaiting response... 200 OK\n",
            "Length: 1115394 (1.1M) [text/plain]\n",
            "Saving to: ‘input.txt’\n",
            "\n",
            "\rinput.txt             0%[                    ]       0  --.-KB/s               \rinput.txt           100%[===================>]   1.06M  --.-KB/s    in 0.05s   \n",
            "\n",
            "2025-03-02 08:30:08 (22.1 MB/s) - ‘input.txt’ saved [1115394/1115394]\n",
            "\n",
            "train has 1003854 tokens\n",
            "val has 111540,tokens\n"
          ]
        }
      ],
      "source": [
        "\n",
        "torch.manual_seed(1337)\n",
        "\n",
        "!wget https://raw.githubusercontent.com/karpathy/char-rnn/master/data/tinyshakespeare/input.txt\n",
        "with open('input.txt', 'r', encoding='utf-8') as f:\n",
        "    text = f.read()\n",
        "\n",
        "# here are all the unique characters that occur in this text\n",
        "chars = sorted(list(set(text)))\n",
        "vocab_size = len(chars)\n",
        "# create a mapping from characters to integers\n",
        "stoi = { ch:i for i,ch in enumerate(chars) }\n",
        "itos = { i:ch for i,ch in enumerate(chars) }\n",
        "encode = lambda s: [stoi[c] for c in s] # encoder: take a string, output a list of integers\n",
        "decode = lambda l: ''.join([itos[i] for i in l]) # decoder: take a list of integers, output a string\n",
        "\n",
        "# Train and test splits\n",
        "data = torch.tensor(encode(text), dtype=torch.long)\n",
        "n = int(0.9*len(data)) # first 90% will be train, rest val\n",
        "train_data = data[:n]\n",
        "val_data = data[n:]\n",
        "print(f\"train has {len(train_data)} tokens\")\n",
        "print(f\"val has {len(val_data)},tokens\")\n",
        "# data loading\n",
        "def get_batch(split):\n",
        "    # generate a small batch of data of inputs x and targets y\n",
        "    data = train_data if split == 'train' else val_data\n",
        "    ix = torch.randint(len(data) - block_size, (batch_size,))\n",
        "    x = torch.stack([data[i:i+block_size] for i in ix])\n",
        "    y = torch.stack([data[i+1:i+block_size+1] for i in ix])\n",
        "    x, y = x.to(device), y.to(device)\n",
        "    return x, y"
      ]
    },
    {
      "cell_type": "markdown",
      "metadata": {
        "id": "l4B6D3t-gd3R"
      },
      "source": [
        "## 设置超参数"
      ]
    },
    {
      "cell_type": "code",
      "execution_count": null,
      "metadata": {
        "id": "NgghHH5Wgi_6"
      },
      "outputs": [],
      "source": [
        "# hyperparameters\n",
        "batch_size = 16 # how many independent sequences will we process in parallel?\n",
        "block_size = 32 # 32 # what is the maximum context length for predictions?\n",
        "max_iters = 5000\n",
        "eval_interval = 100\n",
        "learning_rate = 1e-3\n",
        "device = 'cuda' if torch.cuda.is_available() else 'cpu'\n",
        "eval_iters = 200\n",
        "n_embd = 64 # 768 #64\n",
        "n_head = 4 # 12 #4\n",
        "n_layer = 4 # 12 #4\n",
        "dropout = 0.0\n",
        "model_config=GPTConfig(block_size=block_size,vocab_size=vocab_size,n_layer=n_layer,n_head=n_head,n_embd=n_embd,dropout=dropout)"
      ]
    },
    {
      "cell_type": "markdown",
      "metadata": {
        "id": "dGUQbAilgu2u"
      },
      "source": [
        "## 训练"
      ]
    },
    {
      "cell_type": "code",
      "execution_count": null,
      "metadata": {
        "id": "-4O6Yy49gyOJ"
      },
      "outputs": [],
      "source": [
        "\n",
        "@torch.no_grad()\n",
        "def estimate_loss():\n",
        "    out = {}\n",
        "    model_gpt.eval()\n",
        "    for split in ['train', 'val']:\n",
        "        losses = torch.zeros(eval_iters)\n",
        "        for k in range(eval_iters):\n",
        "            X, Y = get_batch(split)\n",
        "            logits, loss = model_gpt(X, Y)\n",
        "            losses[k] = loss.item()\n",
        "        out[split] = losses.mean()\n",
        "    model_gpt.train()\n",
        "    return out\n",
        "\n",
        "model_gpt = GPT(config=model_config) #TODO\n",
        "m_gpt = model_gpt.to(device)\n",
        "# print the number of parameters in the model\n",
        "print(sum(p.numel() for p in m_gpt.parameters())/1e6, 'M parameters')\n",
        "weight_decay = 1e-1\n",
        "beta1 = 0.9\n",
        "beta2 = 0.95\n",
        "grad_clip = 1.0 # clip gradients at this value, or disable if == 0.0\n",
        "# create a PyTorch optimizer\n",
        "# optimizer = torch.optim.AdamW(model_gpt.parameters(), lr=learning_rate, betas=(beta1, beta2), eps=1e-08, weight_decay=weight_decay, amsgrad=False)\n",
        "optimizer = torch.optim.AdamW(model_gpt.parameters(), lr=learning_rate)\n",
        "\n",
        "for iter in range(max_iters):\n",
        "\n",
        "    # every once in a while evaluate the loss on train and val sets\n",
        "    if iter % eval_interval == 0 or iter == max_iters - 1:\n",
        "        losses = estimate_loss()\n",
        "        print(f\"step {iter}: train loss {losses['train']:.4f}, val loss {losses['val']:.4f}\")\n",
        "\n",
        "    # sample a batch of data\n",
        "    xb, yb = get_batch('train')\n",
        "\n",
        "    # evaluate the loss\n",
        "    logits, loss = model_gpt(xb, yb)\n",
        "    optimizer.zero_grad(set_to_none=True)\n",
        "    loss.backward()\n",
        "    optimizer.step()\n",
        "\n"
      ]
    },
    {
      "cell_type": "code",
      "execution_count": null,
      "metadata": {
        "colab": {
          "base_uri": "https://localhost:8080/"
        },
        "id": "NRf2RC9pkKnq",
        "outputId": "8b92a32e-a2ed-4406-8058-f9bc99b7cc82"
      },
      "outputs": [
        {
          "output_type": "stream",
          "name": "stdout",
          "text": [
            "tensor([[0]])\n",
            "\n",
            "A peak are\n",
            "that Aack-vistion's callo?\n",
            "\n",
            "Stand:\n",
            "Fiet Romerutio, I sis it Quich claugh,\n",
            "And my dister, feellous chepigh roune the be,\n",
            "The genternet not me. But love, as truchar you proved usen\n",
            "Rescences to offfes Lace thou shall:\n",
            "I woulk prom 'Teal a peop ime.\n",
            "\n",
            "\n",
            "KING RICHAM:\n",
            "No ame, honour on:-fall lese of your like you\n",
            "fly, leave off you to greads\n",
            "dead thy suir of by with offect slave dooth, I know yburate thou have asuie,\n",
            "The crease high as as gurmic Do.\n",
            "Whose have gatior too, How daint is of his frange,-- for Jepilie\n",
            "t; thou kingure now be I comemed\n",
            "Boy toud, crechinged the man thror,\n",
            "That's Knouch'd flightealy they ushoot\n",
            "To seak gent quty? I marchare, ands; if look, at my live\n",
            "Duke to my come\n",
            "My know and he somy wors reform as banishy\n",
            "LooDe that to good; o as arriden,\n",
            "That you be of sity fleit Andor, took, looks,\n",
            "For, firniched my his beguiver enast.\n",
            "Os noblived accust of his for\n",
            "Are would of as sated\n",
            "I thest be of my sport; when what\n",
            "The rest thou prace brieter to--\n",
            "\n",
            "ROXELA:\n",
            "manous, my rachic me, as his blead\n",
            "And foll sworked dold me, Leacine off us is\n",
            "Ofterioan put like a thee hise of some as foll.\n",
            "How see I it, this is igorish prister!\n",
            "Our cance, know\n",
            "So.\n",
            "O that she much rembour in branish is\n",
            "But cludrage a me fard hang's flonis.\n",
            "\n",
            "NORANCUS:\n",
            "Thirds.\n",
            "\n",
            "\n",
            "LOXIONE:\n",
            "HENTIO:\n",
            "To bod, you all this jard Lost I was you have, let for I am our go,\n",
            "thou frie; be as rome he we do affect be hearf:\n",
            "Aygh then, I have paush are dead of am\n",
            "Liftes: pair wich accont he\n",
            "loss, as I to in, and a-we with is thrord chenfore\n",
            "Whim: thou quan of breats quithed,\n",
            "Shout show a accellian embices, thrighte Penefit;\n",
            "For bread; and my again a deed\n",
            "First Coliar, whereful be me\n",
            "Anted anore indeit off than there in tears\n",
            "untos: answer Lartine trives come?\n",
            "\n",
            "YOur enry Rulament\n",
            "The caps an to thank vost abons, chipe.\n",
            "\n",
            "GLOUCESTER:\n",
            "As I shall\n",
            "That us heart off you all!---\n",
            "Sicomp, for mach:\n",
            "Not? cOnfort Mannagly we faten the hows beneph,\n",
            "Why thou go his as not pleep frew'st,\n",
            "We for thy grams heart ops annat\n"
          ]
        }
      ],
      "source": [
        "# generate from the model\n",
        "context = torch.zeros((1, 1), dtype=torch.long, device=device)\n",
        "print(context)\n",
        "print(decode(m_gpt.generate(context, max_new_tokens=2000)[0].tolist()))\n"
      ]
    },
    {
      "cell_type": "markdown",
      "source": [
        "# Exp"
      ],
      "metadata": {
        "id": "WtnUqCsvq-NW"
      }
    },
    {
      "cell_type": "code",
      "source": [
        "import torch\n",
        "import torch.nn.functional as F\n",
        "\n",
        "# 示例输入\n",
        "logits = torch.tensor([2.0, 1.0, 0.1])\n",
        "\n",
        "# 使用Sigmoid函数\n",
        "sigmoid_output = torch.sigmoid(logits)\n",
        "print(\"Sigmoid输出:\", sigmoid_output)\n",
        "print(\"Sigmoid输出之和:\", sigmoid_output.sum().item())\n",
        "\n",
        "# 使用Softmax函数\n",
        "softmax_output = F.softmax(logits, dim=0)\n",
        "print(\"Softmax输出:\", softmax_output)\n",
        "print(\"Softmax输出之和:\", softmax_output.sum().item())"
      ],
      "metadata": {
        "colab": {
          "base_uri": "https://localhost:8080/"
        },
        "id": "YCR7QfK5rAuZ",
        "outputId": "634b17d3-3fe7-4198-9d48-aa363d9314d0"
      },
      "execution_count": null,
      "outputs": [
        {
          "output_type": "stream",
          "name": "stdout",
          "text": [
            "Sigmoid输出: tensor([0.8808, 0.7311, 0.5250])\n",
            "Sigmoid输出之和: 2.1368348598480225\n",
            "Softmax输出: tensor([0.6590, 0.2424, 0.0986])\n",
            "Softmax输出之和: 1.0000001192092896\n"
          ]
        }
      ]
    },
    {
      "cell_type": "markdown",
      "source": [
        "## 解析torch.multinomial\n",
        "https://pytorch.org/docs/stable/generated/torch.multinomial.html\n",
        "`torch.multinomial` 是 PyTorch 库中的一个函数，用于从多项分布中进行抽样。多项分布是一种离散概率分布，它描述了在多次独立试验中，每个可能结果出现的次数的概率分布。torch.multinomial 函数可以根据给定的概率分布，随机抽取指定数量的样本。\n",
        "\n",
        "`torch.multinomial` 是 PyTorch 库中的一个函数，用于从多项分布中进行抽样。多项分布是一种离散概率分布，它描述了在多次独立试验中，每个可能结果出现的次数的概率分布。`torch.multinomial` 函数可以根据给定的概率分布，随机抽取指定数量的样本。\n",
        "\n",
        "### 函数签名\n",
        "```python\n",
        "torch.multinomial(input, num_samples, replacement=False, out=None, generator=None)\n",
        "```\n",
        "\n",
        "### 参数解释\n",
        "- **input**：输入的一维张量，表示每个类别的概率分布。这个张量中的所有元素必须是非负的，并且至少有一个元素是正的。\n",
        "- **num_samples**：要抽取的样本数量，必须是一个正整数。\n",
        "- **replacement**：一个布尔值，指示是否允许重复抽样。如果设置为 `True`，则可以多次抽取同一个元素；如果设置为 `False`，则每个元素最多只能被抽取一次。默认值为 `False`。\n",
        "- **out**：可选参数，用于指定输出张量。如果提供了这个参数，函数将把抽样结果存储在这个张量中。\n",
        "- **generator**：可选参数，用于指定随机数生成器。\n",
        "\n",
        "### 返回值\n",
        "返回一个一维张量，包含从多项分布中抽取的样本的索引，张量的长度等于 `num_samples`。\n",
        "\n",
        "### 示例代码\n"
      ],
      "metadata": {
        "id": "QWEdqbpFrEOr"
      }
    },
    {
      "cell_type": "code",
      "source": [
        "import torch\n",
        "\n",
        "# 定义概率分布\n",
        "probabilities = torch.tensor([0.1, 0.2, 0.3, 0.4], dtype=torch.float)\n",
        "\n",
        "# 从多项分布中抽取 5 个样本，允许重复抽样\n",
        "samples_with_replacement = torch.multinomial(probabilities, num_samples=5, replacement=True)\n",
        "print(\"允许重复抽样的结果:\", samples_with_replacement)\n",
        "\n",
        "# 从多项分布中抽取 3 个样本，不允许重复抽样\n",
        "samples_without_replacement = torch.multinomial(probabilities, num_samples=3, replacement=False)\n",
        "print(\"不允许重复抽样的结果:\", samples_without_replacement)\n",
        "# samples_without_replacement = torch.multinomial(probabilities, num_samples=5, replacement=False) # error： 当replacement=False无放回采样时，抽取的样本数 5 大于非零元素个数 2。\n",
        "# print(\"不允许重复抽样的5结果:\", samples_without_replacement)\n",
        "\n",
        "emb=torch.nn.Embedding(8,8)\n",
        "\n",
        "print(emb.weight)\n",
        "p=1\n",
        "for a in probabilities:\n",
        "  p*=a\n",
        "print(p)\n",
        "torch.log(probabilities)\n",
        "p=0.9\n",
        "pp=torch.tensor(p/(1-p))\n",
        "torch.log(pp)"
      ],
      "metadata": {
        "colab": {
          "base_uri": "https://localhost:8080/"
        },
        "id": "75XLl42ZRN5C",
        "outputId": "5f236a0d-766b-4d78-fab9-266ed99bec77"
      },
      "execution_count": null,
      "outputs": [
        {
          "output_type": "stream",
          "name": "stdout",
          "text": [
            "允许重复抽样的结果: tensor([0, 2, 0, 3, 3])\n",
            "不允许重复抽样的结果: tensor([3, 1, 2])\n",
            "Parameter containing:\n",
            "tensor([[ 0.5971, -0.2200,  1.0897,  0.1153,  0.7988,  0.0904, -0.9056, -0.6752],\n",
            "        [ 1.1282,  1.0730,  0.3660, -0.6867,  1.0530, -0.0179,  0.9678, -1.0888],\n",
            "        [ 0.5838,  0.2498,  0.7747, -0.6077, -1.3584,  0.2756, -0.9079,  0.7384],\n",
            "        [ 0.4328,  0.3877,  0.6118, -0.2940, -0.0813, -0.2782,  1.8857,  0.0324],\n",
            "        [-0.3431,  0.7702, -0.5744,  0.5336,  0.4417,  1.4640, -0.9599, -1.9937],\n",
            "        [-1.1291,  2.0483, -1.4948,  1.1470,  0.4582,  1.2054,  0.0597,  0.4873],\n",
            "        [-0.6173,  0.7026, -0.0426, -0.2900,  0.2487, -0.6697, -0.9099,  0.7130],\n",
            "        [-0.0543, -1.3433,  0.0987,  2.5725,  0.9181,  1.0841, -0.0066,  1.5513]],\n",
            "       requires_grad=True)\n",
            "tensor(0.0024)\n"
          ]
        },
        {
          "output_type": "execute_result",
          "data": {
            "text/plain": [
              "tensor(2.1972)"
            ]
          },
          "metadata": {},
          "execution_count": 18
        }
      ]
    },
    {
      "cell_type": "markdown",
      "source": [
        "### 代码解释\n",
        "1. **定义概率分布**：首先，我们创建了一个一维张量 `probabilities`，表示每个类别的概率分布。\n",
        "2. **允许重复抽样**：调用 `torch.multinomial` 函数，设置 `replacement=True`，从多项分布中抽取 5 个样本。由于允许重复抽样，同一个元素可能会被多次抽取。\n",
        "3. **不允许重复抽样**：再次调用 `torch.multinomial` 函数，设置 `replacement=False`，从多项分布中抽取 3 个样本。由于不允许重复抽样，每个元素最多只能被抽取一次。\n",
        "\n",
        "### 注意事项\n",
        "- 输入的概率分布张量 `input` 必须是一维的，并且所有元素必须是非负的，至少有一个元素是正的。\n",
        "- 如果 `replacement=False`，则 `num_samples` 不能超过 `input` 张量的长度。"
      ],
      "metadata": {
        "id": "xHEoYU3RRVFu"
      }
    },
    {
      "cell_type": "markdown",
      "source": [],
      "metadata": {
        "id": "79PN8azPNS0k"
      }
    },
    {
      "cell_type": "code",
      "source": [],
      "metadata": {
        "colab": {
          "base_uri": "https://localhost:8080/"
        },
        "id": "_yJUgWMlNvVk",
        "outputId": "9f5f8400-9efb-43c5-c4f4-2da6b71a52fd"
      },
      "execution_count": null,
      "outputs": [
        {
          "output_type": "execute_result",
          "data": {
            "text/plain": [
              "Parameter containing:\n",
              "tensor([[-1.4524,  0.1215,  1.7020,  ...,  0.1787, -2.1692,  0.0154],\n",
              "        [-0.4061,  0.7682, -0.3170,  ..., -0.3825,  0.2194, -0.2301],\n",
              "        [ 1.0586,  1.2134,  1.3436,  ..., -0.8258,  0.0802, -1.0010],\n",
              "        ...,\n",
              "        [ 1.0841,  0.9479, -0.4085,  ..., -0.6681, -1.7905, -2.2961],\n",
              "        [-0.6375, -2.3960,  0.0783,  ..., -0.1221,  1.3436, -0.3701],\n",
              "        [ 1.3458, -2.6093,  1.5555,  ...,  1.2892,  0.1417,  0.2900]],\n",
              "       requires_grad=True)"
            ]
          },
          "metadata": {},
          "execution_count": 6
        }
      ]
    },
    {
      "cell_type": "code",
      "source": [
        "end_s"
      ],
      "metadata": {
        "colab": {
          "base_uri": "https://localhost:8080/"
        },
        "id": "cGfGHl1qlUKA",
        "outputId": "ec4c1c76-cce7-4579-d889-71310a08b0a7"
      },
      "execution_count": null,
      "outputs": [
        {
          "output_type": "execute_result",
          "data": {
            "text/plain": [
              "[1.0, 1.0, 1.0, 1.0, 1.0, 1.0, 1.0, 1.0, 1.0, 0.5, 0.2, 0.3]"
            ]
          },
          "metadata": {},
          "execution_count": 30
        }
      ]
    },
    {
      "cell_type": "code",
      "source": [
        "sum(end_s)\n"
      ],
      "metadata": {
        "colab": {
          "base_uri": "https://localhost:8080/"
        },
        "id": "zhqg_OHOlVsb",
        "outputId": "77a58722-8d83-4532-9ae0-12b4c6bfb1c1"
      },
      "execution_count": null,
      "outputs": [
        {
          "output_type": "execute_result",
          "data": {
            "text/plain": [
              "10.0"
            ]
          },
          "metadata": {},
          "execution_count": 31
        }
      ]
    },
    {
      "cell_type": "markdown",
      "source": [
        "# SelfAttention"
      ],
      "metadata": {
        "id": "ThB_UADqlZWN"
      }
    },
    {
      "cell_type": "code",
      "source": [],
      "metadata": {
        "id": "NGcbfBuyl_zv"
      },
      "execution_count": null,
      "outputs": []
    }
  ],
  "metadata": {
    "accelerator": "GPU",
    "colab": {
      "gpuType": "T4",
      "provenance": [],
      "include_colab_link": true
    },
    "kernelspec": {
      "display_name": "Python 3",
      "name": "python3"
    },
    "language_info": {
      "name": "python"
    }
  },
  "nbformat": 4,
  "nbformat_minor": 0
}